{
 "cells": [
  {
   "cell_type": "markdown",
   "metadata": {},
   "source": [
    "## Generate Embeddings"
   ]
  },
  {
   "cell_type": "code",
   "execution_count": 1,
   "metadata": {},
   "outputs": [
    {
     "data": {
      "text/html": [
       "<div>\n",
       "<style scoped>\n",
       "    .dataframe tbody tr th:only-of-type {\n",
       "        vertical-align: middle;\n",
       "    }\n",
       "\n",
       "    .dataframe tbody tr th {\n",
       "        vertical-align: top;\n",
       "    }\n",
       "\n",
       "    .dataframe thead th {\n",
       "        text-align: right;\n",
       "    }\n",
       "</style>\n",
       "<table border=\"1\" class=\"dataframe\">\n",
       "  <thead>\n",
       "    <tr style=\"text-align: right;\">\n",
       "      <th></th>\n",
       "      <th>sentence</th>\n",
       "    </tr>\n",
       "  </thead>\n",
       "  <tbody>\n",
       "    <tr>\n",
       "      <th>998</th>\n",
       "      <td>A man is on a rock high above some trees and i...</td>\n",
       "    </tr>\n",
       "    <tr>\n",
       "      <th>999</th>\n",
       "      <td>A man is jumping onto a low wall</td>\n",
       "    </tr>\n",
       "  </tbody>\n",
       "</table>\n",
       "</div>"
      ],
      "text/plain": [
       "                                              sentence\n",
       "998  A man is on a rock high above some trees and i...\n",
       "999                   A man is jumping onto a low wall"
      ]
     },
     "execution_count": 1,
     "metadata": {},
     "output_type": "execute_result"
    }
   ],
   "source": [
    "from pathlib import Path\n",
    "import pandas as pd\n",
    "\n",
    "SENTENCES_FILE = Path(\"sentences.csv\")\n",
    "\n",
    "if not SENTENCES_FILE.exists():\n",
    "    print(\"sentences.csv file not found.\")\n",
    "    exit(1)\n",
    "\n",
    "dataset = pd.read_csv(SENTENCES_FILE)\n",
    "dataset.tail(2)"
   ]
  },
  {
   "cell_type": "markdown",
   "metadata": {},
   "source": [
    "Generate embedding using Open AI, but with free Ollama local model"
   ]
  },
  {
   "cell_type": "code",
   "execution_count": 2,
   "metadata": {},
   "outputs": [
    {
     "data": {
      "text/html": [
       "<div>\n",
       "<style scoped>\n",
       "    .dataframe tbody tr th:only-of-type {\n",
       "        vertical-align: middle;\n",
       "    }\n",
       "\n",
       "    .dataframe tbody tr th {\n",
       "        vertical-align: top;\n",
       "    }\n",
       "\n",
       "    .dataframe thead th {\n",
       "        text-align: right;\n",
       "    }\n",
       "</style>\n",
       "<table border=\"1\" class=\"dataframe\">\n",
       "  <thead>\n",
       "    <tr style=\"text-align: right;\">\n",
       "      <th></th>\n",
       "      <th>sentence</th>\n",
       "      <th>embedding</th>\n",
       "    </tr>\n",
       "  </thead>\n",
       "  <tbody>\n",
       "    <tr>\n",
       "      <th>0</th>\n",
       "      <td>A little girl is smiling and running outside</td>\n",
       "      <td>[0.027937938, 0.025827052, -0.15133108, 0.0199...</td>\n",
       "    </tr>\n",
       "    <tr>\n",
       "      <th>1</th>\n",
       "      <td>A man is drawing on a digital dry erase board</td>\n",
       "      <td>[0.030545507, 0.07927829, -0.11160514, -0.0660...</td>\n",
       "    </tr>\n",
       "    <tr>\n",
       "      <th>2</th>\n",
       "      <td>A black bird is sitting on a dead tree</td>\n",
       "      <td>[0.008163251, -0.0055234055, -0.15605377, -0.0...</td>\n",
       "    </tr>\n",
       "  </tbody>\n",
       "</table>\n",
       "</div>"
      ],
      "text/plain": [
       "                                        sentence  \\\n",
       "0   A little girl is smiling and running outside   \n",
       "1  A man is drawing on a digital dry erase board   \n",
       "2         A black bird is sitting on a dead tree   \n",
       "\n",
       "                                           embedding  \n",
       "0  [0.027937938, 0.025827052, -0.15133108, 0.0199...  \n",
       "1  [0.030545507, 0.07927829, -0.11160514, -0.0660...  \n",
       "2  [0.008163251, -0.0055234055, -0.15605377, -0.0...  "
      ]
     },
     "execution_count": 2,
     "metadata": {},
     "output_type": "execute_result"
    }
   ],
   "source": [
    "from openai import OpenAI\n",
    "import numpy as np\n",
    "\n",
    "OLLAMA_URL = \"http://localhost:11434/v1\"\n",
    "EMBEDDED_SENTENCES_FILE = Path(\"embedded_sentences.csv\")\n",
    "\n",
    "client = OpenAI(\n",
    "    base_url=OLLAMA_URL,\n",
    "    api_key='ollama' # Required for the OpenAI API, but not for OLLAMA\n",
    ")\n",
    "\n",
    "def get_embeddings(sentence: str) -> list[float]:\n",
    "    try:\n",
    "        response = client.embeddings.create(\n",
    "            model=\"nomic-embed-text:latest\",\n",
    "            input=sentence\n",
    "        )\n",
    "    except Exception as e:\n",
    "        print(f\"Failed to get embedding for sentence: {sentence}\")\n",
    "        print(e)\n",
    "        raise\n",
    "    embedding = response.data[0].embedding\n",
    "    return embedding\n",
    "\n",
    "if not EMBEDDED_SENTENCES_FILE.exists():\n",
    "    dataset[\"embedding\"] = dataset.sentence.apply(get_embeddings)\n",
    "    dataset.to_csv(EMBEDDED_SENTENCES_FILE, index=False)\n",
    "else:\n",
    "    dataset = pd.read_csv(EMBEDDED_SENTENCES_FILE)\n",
    "    dataset[\"embedding\"] = dataset.embedding.apply(eval).apply(np.array)\n",
    "\n",
    "dataset.head(3)"
   ]
  },
  {
   "cell_type": "code",
   "execution_count": 3,
   "metadata": {},
   "outputs": [
    {
     "data": {
      "text/html": [
       "<div>\n",
       "<style scoped>\n",
       "    .dataframe tbody tr th:only-of-type {\n",
       "        vertical-align: middle;\n",
       "    }\n",
       "\n",
       "    .dataframe tbody tr th {\n",
       "        vertical-align: top;\n",
       "    }\n",
       "\n",
       "    .dataframe thead th {\n",
       "        text-align: right;\n",
       "    }\n",
       "</style>\n",
       "<table border=\"1\" class=\"dataframe\">\n",
       "  <thead>\n",
       "    <tr style=\"text-align: right;\">\n",
       "      <th></th>\n",
       "      <th>sentence</th>\n",
       "      <th>embedding</th>\n",
       "      <th>id</th>\n",
       "    </tr>\n",
       "  </thead>\n",
       "  <tbody>\n",
       "    <tr>\n",
       "      <th>0</th>\n",
       "      <td>A little girl is smiling and running outside</td>\n",
       "      <td>[0.027937938, 0.025827052, -0.15133108, 0.0199...</td>\n",
       "      <td>1</td>\n",
       "    </tr>\n",
       "    <tr>\n",
       "      <th>1</th>\n",
       "      <td>A man is drawing on a digital dry erase board</td>\n",
       "      <td>[0.030545507, 0.07927829, -0.11160514, -0.0660...</td>\n",
       "      <td>2</td>\n",
       "    </tr>\n",
       "    <tr>\n",
       "      <th>2</th>\n",
       "      <td>A black bird is sitting on a dead tree</td>\n",
       "      <td>[0.008163251, -0.0055234055, -0.15605377, -0.0...</td>\n",
       "      <td>3</td>\n",
       "    </tr>\n",
       "    <tr>\n",
       "      <th>3</th>\n",
       "      <td>An elderly man is sitting on a bench</td>\n",
       "      <td>[-0.016438434, 0.06475461, -0.13259469, -0.085...</td>\n",
       "      <td>4</td>\n",
       "    </tr>\n",
       "    <tr>\n",
       "      <th>4</th>\n",
       "      <td>A man and a woman are sitting comfortably on t...</td>\n",
       "      <td>[0.055450395, 0.06100677, -0.1635873, -0.01177...</td>\n",
       "      <td>5</td>\n",
       "    </tr>\n",
       "  </tbody>\n",
       "</table>\n",
       "</div>"
      ],
      "text/plain": [
       "                                            sentence  \\\n",
       "0       A little girl is smiling and running outside   \n",
       "1      A man is drawing on a digital dry erase board   \n",
       "2             A black bird is sitting on a dead tree   \n",
       "3               An elderly man is sitting on a bench   \n",
       "4  A man and a woman are sitting comfortably on t...   \n",
       "\n",
       "                                           embedding  id  \n",
       "0  [0.027937938, 0.025827052, -0.15133108, 0.0199...   1  \n",
       "1  [0.030545507, 0.07927829, -0.11160514, -0.0660...   2  \n",
       "2  [0.008163251, -0.0055234055, -0.15605377, -0.0...   3  \n",
       "3  [-0.016438434, 0.06475461, -0.13259469, -0.085...   4  \n",
       "4  [0.055450395, 0.06100677, -0.1635873, -0.01177...   5  "
      ]
     },
     "execution_count": 3,
     "metadata": {},
     "output_type": "execute_result"
    }
   ],
   "source": [
    "dataset[\"id\"] = range(1, len(dataset) + 1)\n",
    "dataset.head()"
   ]
  },
  {
   "cell_type": "markdown",
   "metadata": {},
   "source": [
    "Check dimensions of embedding line"
   ]
  },
  {
   "cell_type": "code",
   "execution_count": 4,
   "metadata": {},
   "outputs": [
    {
     "data": {
      "text/plain": [
       "768"
      ]
     },
     "execution_count": 4,
     "metadata": {},
     "output_type": "execute_result"
    }
   ],
   "source": [
    "embedding_dimension = len(dataset.iloc[0][\"embedding\"])\n",
    "embedding_dimension"
   ]
  },
  {
   "cell_type": "markdown",
   "metadata": {},
   "source": [
    "### FAISS - Facebook library for efficient similarity search and clustering of dense vectors.\n",
    "\n",
    "Check [Faiss Indexes](https://github.com/facebookresearch/faiss/wiki/Faiss-indexes) for more information."
   ]
  },
  {
   "cell_type": "code",
   "execution_count": 5,
   "metadata": {},
   "outputs": [
    {
     "data": {
      "text/plain": [
       "(1000, 768)"
      ]
     },
     "execution_count": 5,
     "metadata": {},
     "output_type": "execute_result"
    }
   ],
   "source": [
    "embeddings = np.array(dataset.embedding.to_list())\n",
    "embeddings.shape"
   ]
  },
  {
   "cell_type": "code",
   "execution_count": 6,
   "metadata": {},
   "outputs": [],
   "source": [
    "query = \"I love soccer\"\n",
    "query_embedding = get_embeddings(query)"
   ]
  },
  {
   "cell_type": "markdown",
   "metadata": {},
   "source": [
    "## IndexFlatL2 - Exact Search for L2 algorithm\n",
    "> The more documents you have got the slower it gets."
   ]
  },
  {
   "cell_type": "code",
   "execution_count": 7,
   "metadata": {},
   "outputs": [
    {
     "data": {
      "text/plain": [
       "True"
      ]
     },
     "execution_count": 7,
     "metadata": {},
     "output_type": "execute_result"
    }
   ],
   "source": [
    "from faiss import IndexFlatL2, IndexIVFFlat, IndexIVFPQ\n",
    "\n",
    "index_l2 = IndexFlatL2(embedding_dimension)\n",
    "index_l2.is_trained"
   ]
  },
  {
   "cell_type": "code",
   "execution_count": 8,
   "metadata": {},
   "outputs": [
    {
     "data": {
      "text/plain": [
       "1000"
      ]
     },
     "execution_count": 8,
     "metadata": {},
     "output_type": "execute_result"
    }
   ],
   "source": [
    "index_l2.add(embeddings)\n",
    "index_l2.ntotal"
   ]
  },
  {
   "cell_type": "code",
   "execution_count": 9,
   "metadata": {},
   "outputs": [
    {
     "data": {
      "text/html": [
       "<div>\n",
       "<style scoped>\n",
       "    .dataframe tbody tr th:only-of-type {\n",
       "        vertical-align: middle;\n",
       "    }\n",
       "\n",
       "    .dataframe tbody tr th {\n",
       "        vertical-align: top;\n",
       "    }\n",
       "\n",
       "    .dataframe thead th {\n",
       "        text-align: right;\n",
       "    }\n",
       "</style>\n",
       "<table border=\"1\" class=\"dataframe\">\n",
       "  <thead>\n",
       "    <tr style=\"text-align: right;\">\n",
       "      <th></th>\n",
       "      <th>sentence</th>\n",
       "      <th>embedding</th>\n",
       "      <th>id</th>\n",
       "    </tr>\n",
       "  </thead>\n",
       "  <tbody>\n",
       "    <tr>\n",
       "      <th>137</th>\n",
       "      <td>A group of boys is playing soccer on the seashore</td>\n",
       "      <td>[-0.0064990562, 0.038938403, -0.1637899, -0.05...</td>\n",
       "      <td>138</td>\n",
       "    </tr>\n",
       "    <tr>\n",
       "      <th>352</th>\n",
       "      <td>An opponent is tackling a soccer player</td>\n",
       "      <td>[0.032394014, 0.08220376, -0.15161607, -0.0009...</td>\n",
       "      <td>353</td>\n",
       "    </tr>\n",
       "    <tr>\n",
       "      <th>684</th>\n",
       "      <td>A man is punching a soccer ball</td>\n",
       "      <td>[0.036113564, 0.08290917, -0.10133908, 0.01262...</td>\n",
       "      <td>685</td>\n",
       "    </tr>\n",
       "    <tr>\n",
       "      <th>25</th>\n",
       "      <td>A group of men is playing soccer on the beach</td>\n",
       "      <td>[0.010089901, 0.05418833, -0.15500218, -0.0155...</td>\n",
       "      <td>26</td>\n",
       "    </tr>\n",
       "    <tr>\n",
       "      <th>531</th>\n",
       "      <td>Two dogs are running and trying to catch a soc...</td>\n",
       "      <td>[-0.015107782, 0.028427463, -0.15937233, 0.028...</td>\n",
       "      <td>532</td>\n",
       "    </tr>\n",
       "  </tbody>\n",
       "</table>\n",
       "</div>"
      ],
      "text/plain": [
       "                                              sentence  \\\n",
       "137  A group of boys is playing soccer on the seashore   \n",
       "352            An opponent is tackling a soccer player   \n",
       "684                    A man is punching a soccer ball   \n",
       "25       A group of men is playing soccer on the beach   \n",
       "531  Two dogs are running and trying to catch a soc...   \n",
       "\n",
       "                                             embedding   id  \n",
       "137  [-0.0064990562, 0.038938403, -0.1637899, -0.05...  138  \n",
       "352  [0.032394014, 0.08220376, -0.15161607, -0.0009...  353  \n",
       "684  [0.036113564, 0.08290917, -0.10133908, 0.01262...  685  \n",
       "25   [0.010089901, 0.05418833, -0.15500218, -0.0155...   26  \n",
       "531  [-0.015107782, 0.028427463, -0.15937233, 0.028...  532  "
      ]
     },
     "execution_count": 9,
     "metadata": {},
     "output_type": "execute_result"
    }
   ],
   "source": [
    "_, document_index = index_l2.search(np.expand_dims(query_embedding, axis=0), k=5)\n",
    "dataset.iloc[document_index[0]]"
   ]
  },
  {
   "cell_type": "markdown",
   "metadata": {},
   "source": [
    "## IndexIVFFlat - Inverted file with exact post-verification\n",
    "\n",
    "### Voronoi Diagram\n",
    "\n",
    "Any point within a cell of the Voronoi diagram is closest to the centroid (center) associated with that cell.\n",
    "\n",
    "A Voronoi diagram partitions space into regions based on the distance to a specific set of points, known as centers or generators.\n",
    "\n",
    "This algorithm allows you to efficiently find the nearest point to your search criteria without having to compare all possible embeddings—only the closest region needs to be considered.\n",
    "\n",
    "![](./images/ivf.png)"
   ]
  },
  {
   "cell_type": "code",
   "execution_count": 10,
   "metadata": {},
   "outputs": [
    {
     "data": {
      "text/plain": [
       "False"
      ]
     },
     "execution_count": 10,
     "metadata": {},
     "output_type": "execute_result"
    }
   ],
   "source": [
    "n_centroids = 20\n",
    "quantizer = IndexFlatL2(embedding_dimension)\n",
    "index_ivf = IndexIVFFlat(quantizer, embedding_dimension, n_centroids)\n",
    "index_ivf.is_trained"
   ]
  },
  {
   "cell_type": "code",
   "execution_count": 11,
   "metadata": {},
   "outputs": [
    {
     "data": {
      "text/plain": [
       "True"
      ]
     },
     "execution_count": 11,
     "metadata": {},
     "output_type": "execute_result"
    }
   ],
   "source": [
    "index_ivf.train(embeddings)\n",
    "index_ivf.is_trained"
   ]
  },
  {
   "cell_type": "code",
   "execution_count": 12,
   "metadata": {},
   "outputs": [
    {
     "data": {
      "text/plain": [
       "1000"
      ]
     },
     "execution_count": 12,
     "metadata": {},
     "output_type": "execute_result"
    }
   ],
   "source": [
    "index_ivf.add(embeddings)\n",
    "index_ivf.ntotal"
   ]
  },
  {
   "cell_type": "code",
   "execution_count": 13,
   "metadata": {},
   "outputs": [
    {
     "data": {
      "text/html": [
       "<div>\n",
       "<style scoped>\n",
       "    .dataframe tbody tr th:only-of-type {\n",
       "        vertical-align: middle;\n",
       "    }\n",
       "\n",
       "    .dataframe tbody tr th {\n",
       "        vertical-align: top;\n",
       "    }\n",
       "\n",
       "    .dataframe thead th {\n",
       "        text-align: right;\n",
       "    }\n",
       "</style>\n",
       "<table border=\"1\" class=\"dataframe\">\n",
       "  <thead>\n",
       "    <tr style=\"text-align: right;\">\n",
       "      <th></th>\n",
       "      <th>sentence</th>\n",
       "      <th>embedding</th>\n",
       "      <th>id</th>\n",
       "    </tr>\n",
       "  </thead>\n",
       "  <tbody>\n",
       "    <tr>\n",
       "      <th>630</th>\n",
       "      <td>A group of women is playing with a ball on the...</td>\n",
       "      <td>[0.06005692, 0.072284855, -0.18046266, -0.0082...</td>\n",
       "      <td>631</td>\n",
       "    </tr>\n",
       "    <tr>\n",
       "      <th>980</th>\n",
       "      <td>The cheerleaders are parading and wearing unif...</td>\n",
       "      <td>[-0.026352186, 0.019464308, -0.19358607, 0.021...</td>\n",
       "      <td>981</td>\n",
       "    </tr>\n",
       "    <tr>\n",
       "      <th>88</th>\n",
       "      <td>Some runners are competing in a race</td>\n",
       "      <td>[-0.01448306, 0.07064765, -0.19415435, 0.02815...</td>\n",
       "      <td>89</td>\n",
       "    </tr>\n",
       "    <tr>\n",
       "      <th>675</th>\n",
       "      <td>Some racers are swimming in a lake</td>\n",
       "      <td>[-0.033334747, 0.07690886, -0.16447462, 0.0249...</td>\n",
       "      <td>676</td>\n",
       "    </tr>\n",
       "    <tr>\n",
       "      <th>162</th>\n",
       "      <td>Some cheerleaders are taking a break</td>\n",
       "      <td>[-0.0022243182, 0.00015541063, -0.21803565, 0....</td>\n",
       "      <td>163</td>\n",
       "    </tr>\n",
       "  </tbody>\n",
       "</table>\n",
       "</div>"
      ],
      "text/plain": [
       "                                              sentence  \\\n",
       "630  A group of women is playing with a ball on the...   \n",
       "980  The cheerleaders are parading and wearing unif...   \n",
       "88                Some runners are competing in a race   \n",
       "675                 Some racers are swimming in a lake   \n",
       "162               Some cheerleaders are taking a break   \n",
       "\n",
       "                                             embedding   id  \n",
       "630  [0.06005692, 0.072284855, -0.18046266, -0.0082...  631  \n",
       "980  [-0.026352186, 0.019464308, -0.19358607, 0.021...  981  \n",
       "88   [-0.01448306, 0.07064765, -0.19415435, 0.02815...   89  \n",
       "675  [-0.033334747, 0.07690886, -0.16447462, 0.0249...  676  \n",
       "162  [-0.0022243182, 0.00015541063, -0.21803565, 0....  163  "
      ]
     },
     "execution_count": 13,
     "metadata": {},
     "output_type": "execute_result"
    }
   ],
   "source": [
    "_, document_index = index_ivf.search(np.expand_dims(query_embedding, axis=0), k=5)\n",
    "dataset.iloc[document_index[0]]"
   ]
  },
  {
   "cell_type": "markdown",
   "metadata": {},
   "source": [
    "> Using nprobe we can extend searching by looking into neighbors of found cell. "
   ]
  },
  {
   "cell_type": "code",
   "execution_count": 14,
   "metadata": {},
   "outputs": [
    {
     "data": {
      "text/html": [
       "<div>\n",
       "<style scoped>\n",
       "    .dataframe tbody tr th:only-of-type {\n",
       "        vertical-align: middle;\n",
       "    }\n",
       "\n",
       "    .dataframe tbody tr th {\n",
       "        vertical-align: top;\n",
       "    }\n",
       "\n",
       "    .dataframe thead th {\n",
       "        text-align: right;\n",
       "    }\n",
       "</style>\n",
       "<table border=\"1\" class=\"dataframe\">\n",
       "  <thead>\n",
       "    <tr style=\"text-align: right;\">\n",
       "      <th></th>\n",
       "      <th>sentence</th>\n",
       "      <th>embedding</th>\n",
       "      <th>id</th>\n",
       "    </tr>\n",
       "  </thead>\n",
       "  <tbody>\n",
       "    <tr>\n",
       "      <th>137</th>\n",
       "      <td>A group of boys is playing soccer on the seashore</td>\n",
       "      <td>[-0.0064990562, 0.038938403, -0.1637899, -0.05...</td>\n",
       "      <td>138</td>\n",
       "    </tr>\n",
       "    <tr>\n",
       "      <th>950</th>\n",
       "      <td>A soccer player is sitting on the field and is...</td>\n",
       "      <td>[0.006486396, 0.07249025, -0.1620764, -0.01017...</td>\n",
       "      <td>951</td>\n",
       "    </tr>\n",
       "    <tr>\n",
       "      <th>630</th>\n",
       "      <td>A group of women is playing with a ball on the...</td>\n",
       "      <td>[0.06005692, 0.072284855, -0.18046266, -0.0082...</td>\n",
       "      <td>631</td>\n",
       "    </tr>\n",
       "    <tr>\n",
       "      <th>292</th>\n",
       "      <td>The little kid is playing football and falling...</td>\n",
       "      <td>[0.06897718, 0.007680238, -0.15267676, 0.02927...</td>\n",
       "      <td>293</td>\n",
       "    </tr>\n",
       "    <tr>\n",
       "      <th>152</th>\n",
       "      <td>A cold cyclist is celebrating</td>\n",
       "      <td>[0.02827957, 0.08175549, -0.19929297, 0.039235...</td>\n",
       "      <td>153</td>\n",
       "    </tr>\n",
       "  </tbody>\n",
       "</table>\n",
       "</div>"
      ],
      "text/plain": [
       "                                              sentence  \\\n",
       "137  A group of boys is playing soccer on the seashore   \n",
       "950  A soccer player is sitting on the field and is...   \n",
       "630  A group of women is playing with a ball on the...   \n",
       "292  The little kid is playing football and falling...   \n",
       "152                      A cold cyclist is celebrating   \n",
       "\n",
       "                                             embedding   id  \n",
       "137  [-0.0064990562, 0.038938403, -0.1637899, -0.05...  138  \n",
       "950  [0.006486396, 0.07249025, -0.1620764, -0.01017...  951  \n",
       "630  [0.06005692, 0.072284855, -0.18046266, -0.0082...  631  \n",
       "292  [0.06897718, 0.007680238, -0.15267676, 0.02927...  293  \n",
       "152  [0.02827957, 0.08175549, -0.19929297, 0.039235...  153  "
      ]
     },
     "execution_count": 14,
     "metadata": {},
     "output_type": "execute_result"
    }
   ],
   "source": [
    "index_ivf.nprobe = 5\n",
    "_, document_index = index_ivf.search(np.expand_dims(query_embedding, axis=0), k=5)\n",
    "dataset.iloc[document_index[0]]"
   ]
  },
  {
   "cell_type": "markdown",
   "metadata": {},
   "source": [
    "# Final optimization\n",
    "## IndexIVFPQ - IFV + Product Quantizer (PQ)\n",
    "\n",
    "![ndexIVFPQ - IFV + Product Quantizer (PQ)](./images/ivf-pq.png)"
   ]
  },
  {
   "cell_type": "code",
   "execution_count": 15,
   "metadata": {},
   "outputs": [
    {
     "data": {
      "text/plain": [
       "False"
      ]
     },
     "execution_count": 15,
     "metadata": {},
     "output_type": "execute_result"
    }
   ],
   "source": [
    "code_size = 8\n",
    "bits_per_centroid = 4\n",
    "\n",
    "index_ifv_pq = IndexIVFPQ(quantizer, embedding_dimension, n_centroids, code_size, bits_per_centroid)\n",
    "\n",
    "index_ifv_pq.is_trained"
   ]
  },
  {
   "cell_type": "code",
   "execution_count": 16,
   "metadata": {},
   "outputs": [
    {
     "data": {
      "text/plain": [
       "1000"
      ]
     },
     "execution_count": 16,
     "metadata": {},
     "output_type": "execute_result"
    }
   ],
   "source": [
    "index_ifv_pq.train(embeddings)\n",
    "index_ifv_pq.add(embeddings)\n",
    "index_ifv_pq.ntotal"
   ]
  },
  {
   "cell_type": "code",
   "execution_count": 17,
   "metadata": {},
   "outputs": [
    {
     "data": {
      "text/html": [
       "<div>\n",
       "<style scoped>\n",
       "    .dataframe tbody tr th:only-of-type {\n",
       "        vertical-align: middle;\n",
       "    }\n",
       "\n",
       "    .dataframe tbody tr th {\n",
       "        vertical-align: top;\n",
       "    }\n",
       "\n",
       "    .dataframe thead th {\n",
       "        text-align: right;\n",
       "    }\n",
       "</style>\n",
       "<table border=\"1\" class=\"dataframe\">\n",
       "  <thead>\n",
       "    <tr style=\"text-align: right;\">\n",
       "      <th></th>\n",
       "      <th>sentence</th>\n",
       "      <th>embedding</th>\n",
       "      <th>id</th>\n",
       "    </tr>\n",
       "  </thead>\n",
       "  <tbody>\n",
       "    <tr>\n",
       "      <th>980</th>\n",
       "      <td>The cheerleaders are parading and wearing unif...</td>\n",
       "      <td>[-0.026352186, 0.019464308, -0.19358607, 0.021...</td>\n",
       "      <td>981</td>\n",
       "    </tr>\n",
       "    <tr>\n",
       "      <th>385</th>\n",
       "      <td>A lot of people are in an ice skating park</td>\n",
       "      <td>[-0.006656262, 0.1322621, -0.17773533, 0.04998...</td>\n",
       "      <td>386</td>\n",
       "    </tr>\n",
       "    <tr>\n",
       "      <th>979</th>\n",
       "      <td>The crowd is watching a football game</td>\n",
       "      <td>[-0.007824613, 0.08482189, -0.17698936, -0.023...</td>\n",
       "      <td>980</td>\n",
       "    </tr>\n",
       "    <tr>\n",
       "      <th>483</th>\n",
       "      <td>Some teenage girls are dancing for the camera</td>\n",
       "      <td>[-0.016949473, -0.0032891117, -0.1651635, 0.05...</td>\n",
       "      <td>484</td>\n",
       "    </tr>\n",
       "    <tr>\n",
       "      <th>702</th>\n",
       "      <td>Some teenage girls are dancing for the camera</td>\n",
       "      <td>[-0.016949473, -0.0032891117, -0.1651635, 0.05...</td>\n",
       "      <td>703</td>\n",
       "    </tr>\n",
       "  </tbody>\n",
       "</table>\n",
       "</div>"
      ],
      "text/plain": [
       "                                              sentence  \\\n",
       "980  The cheerleaders are parading and wearing unif...   \n",
       "385         A lot of people are in an ice skating park   \n",
       "979              The crowd is watching a football game   \n",
       "483      Some teenage girls are dancing for the camera   \n",
       "702      Some teenage girls are dancing for the camera   \n",
       "\n",
       "                                             embedding   id  \n",
       "980  [-0.026352186, 0.019464308, -0.19358607, 0.021...  981  \n",
       "385  [-0.006656262, 0.1322621, -0.17773533, 0.04998...  386  \n",
       "979  [-0.007824613, 0.08482189, -0.17698936, -0.023...  980  \n",
       "483  [-0.016949473, -0.0032891117, -0.1651635, 0.05...  484  \n",
       "702  [-0.016949473, -0.0032891117, -0.1651635, 0.05...  703  "
      ]
     },
     "execution_count": 17,
     "metadata": {},
     "output_type": "execute_result"
    }
   ],
   "source": [
    "index_ifv_pq.nprobe = 5\n",
    "_, document_index = index_ifv_pq.search(np.expand_dims(query_embedding, axis=0), k=5)\n",
    "dataset.iloc[document_index[0]]"
   ]
  }
 ],
 "metadata": {
  "kernelspec": {
   "display_name": ".venv",
   "language": "python",
   "name": "python3"
  },
  "language_info": {
   "codemirror_mode": {
    "name": "ipython",
    "version": 3
   },
   "file_extension": ".py",
   "mimetype": "text/x-python",
   "name": "python",
   "nbconvert_exporter": "python",
   "pygments_lexer": "ipython3",
   "version": "3.10.11"
  }
 },
 "nbformat": 4,
 "nbformat_minor": 2
}
