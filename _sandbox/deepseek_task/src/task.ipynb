{
 "cells": [
  {
   "cell_type": "markdown",
   "metadata": {},
   "source": [
    "# Use deepseek to finish task.\n",
    "\n",
    "I want to take plot of 20 most visited cities in the world on an interactive map. Clicking on the point should display the name of city and rank, and the number of visitors. I will use python jupyter notebook for this. And also I would like to name this plot Most Visited Cities."
   ]
  },
  {
   "cell_type": "code",
   "execution_count": 21,
   "metadata": {},
   "outputs": [],
   "source": [
    "import pandas as pd\n",
    "\n",
    "# Example data\n",
    "data = {\n",
    "    'City': ['Bangkok', 'Paris', 'London', 'Dubai', 'Singapore', 'New York', 'Kuala Lumpur', 'Tokyo', 'Istanbul', 'Seoul', \n",
    "             'Hong Kong', 'Makkah', 'Phuket', 'Milan', 'Barcelona', 'Pattaya', 'Palma de Mallorca', 'Bali', 'Osaka', 'Moscow'],\n",
    "    'Rank': [1, 2, 3, 4, 5, 6, 7, 8, 9, 10, 11, 12, 13, 14, 15, 16, 17, 18, 19, 20],\n",
    "    'Visitors (millions)': [22.78, 19.10, 19.09, 15.93, 14.67, 13.60, 13.26, 12.93, 12.72, 12.39, \n",
    "                            12.18, 12.00, 11.10, 10.64, 10.58, 10.12, 10.02, 9.95, 9.85, 9.67],\n",
    "    'Latitude': [13.7563, 48.8566, 51.5074, 25.2769, 1.3521, 40.7128, 3.1390, 35.6762, 41.0082, 37.5665, \n",
    "                 22.3193, 21.3891, 7.8804, 45.4642, 41.3851, 12.9236, 39.5696, -8.4095, 34.6937, 55.7558],\n",
    "    'Longitude': [100.5018, 2.3522, -0.1278, 55.2962, 103.8198, -74.0060, 101.6869, 139.6503, 28.9784, 126.9780, \n",
    "                  114.1694, 39.8579, 98.3923, 9.1900, 2.1734, 100.8825, 2.6502, 115.1889, 135.5023, 37.6173]\n",
    "}\n",
    "\n",
    "# Create a DataFrame\n",
    "df = pd.DataFrame(data)"
   ]
  },
  {
   "cell_type": "code",
   "execution_count": null,
   "metadata": {},
   "outputs": [],
   "source": [
    "import folium\n",
    "\n",
    "# Create a base map centered on the world\n",
    "map = folium.Map(\n",
    "    location=[len(data[\"City\"]), 0],\n",
    "    zoom_start=2,\n",
    "    tiles=\"OpenStreetMap\",\n",
    "    control_scale=True,\n",
    ")\n",
    "\n",
    "# Add markers for each city\n",
    "for index, row in df.iterrows():\n",
    "    # Create a popup with city name, rank, and number of visitors\n",
    "    popup_text = f\"<b>{row['City']}</b><br>Rank: {row['Rank']}<br>Visitors: {row['Visitors (millions)']} million\"\n",
    "    popup = folium.Popup(popup_text, max_width=250)\n",
    "\n",
    "    # Add a marker to the map\n",
    "    folium.Marker(\n",
    "        location=[row[\"Latitude\"], row[\"Longitude\"]],\n",
    "        popup=popup,\n",
    "        icon=folium.Icon(color=\"blue\", icon=\"info-sign\"),\n",
    "    ).add_to(map)\n",
    "\n",
    "# Add a title to the map\n",
    "title_html = \"\"\"\n",
    "             <h3 align=\"center\" style=\"font-size:16px\"><b>Most Visited Cities</b></h3>\n",
    "             \"\"\"\n",
    "map.get_root().html.add_child(folium.Element(title_html))\n",
    "\n",
    "# Display the map\n",
    "map"
   ]
  },
  {
   "cell_type": "markdown",
   "metadata": {},
   "source": [
    "![Plot](./images/plot.png)"
   ]
  },
  {
   "cell_type": "markdown",
   "metadata": {},
   "source": [
    "## Additional task\n",
    "\n",
    "I want to color the markers based on the rank. Ranks 1-5 in green, 6-10 in blue, 11-15 in purple, 16-20 in red. Display the legend that shows this categorization on the lower right corner of the screen."
   ]
  },
  {
   "cell_type": "code",
   "execution_count": null,
   "metadata": {},
   "outputs": [],
   "source": [
    "import folium\n",
    "\n",
    "# Create a base map centered on the world\n",
    "map = folium.Map(\n",
    "    location=[len(data[\"City\"]), 0],\n",
    "    zoom_start=2,\n",
    "    tiles=\"OpenStreetMap\",\n",
    "    control_scale=True,\n",
    ")\n",
    "\n",
    "\n",
    "def get_marker_color(rank):\n",
    "    if rank <= 5:\n",
    "        return \"green\"\n",
    "    elif rank <= 10:\n",
    "        return \"blue\"\n",
    "    elif rank <= 15:\n",
    "        return \"purple\"\n",
    "    else:\n",
    "        return \"red\"\n",
    "\n",
    "\n",
    "# Add markers for each city\n",
    "for index, row in df.iterrows():\n",
    "    # Create a popup with city name, rank, and number of visitors\n",
    "    popup_text = f\"<b>{row['City']}</b><br>Rank: {row['Rank']}<br>Visitors: {row['Visitors (millions)']} million\"\n",
    "    popup = folium.Popup(popup_text, max_width=250)\n",
    "\n",
    "    # Add a marker to the map\n",
    "    folium.Marker(\n",
    "        location=[row[\"Latitude\"], row[\"Longitude\"]],\n",
    "        popup=popup,\n",
    "        icon=folium.Icon(color=get_marker_color(row[\"Rank\"]), icon=\"info-sign\"),\n",
    "    ).add_to(map)\n",
    "\n",
    "# Add a title to the map\n",
    "title_html = \"\"\"\n",
    "             <h3 align=\"center\" style=\"font-size:16px\"><b>Most Visited Cities</b></h3>\n",
    "             \"\"\"\n",
    "legend_html = \"\"\"\n",
    "<div style=\"\n",
    "    position: fixed;\n",
    "    bottom: 25px;\n",
    "    right: 25px;\n",
    "    width: 150px;\n",
    "    padding: 6px;\n",
    "    border: 2px solid grey;\n",
    "    background-color: white;\n",
    "    z-index:1000;\n",
    "    \">\n",
    "<div>\n",
    "<b>Rank Color Legend</b>\n",
    "<i class=\"fa fa-map-marker fa-2x\" style=\"color:green\"></i> Top 5<br>\n",
    "<i class=\"fa fa-map-marker fa-2x\" style=\"color:blue\"></i> 6-10<br>\n",
    "<i class=\"fa fa-map-marker fa-2x\" style=\"color:purple\"></i> 11-15<br>\n",
    "<i class=\"fa fa-map-marker fa-2x\" style=\"color:red\"></i> 16-20\n",
    "</div>\n",
    "</div>\n",
    "\"\"\"\n",
    "map.get_root().html.add_child(folium.Element(title_html)).add_child(folium.Element(legend_html))\n",
    "\n",
    "# Display the map\n",
    "map"
   ]
  },
  {
   "cell_type": "markdown",
   "metadata": {},
   "source": [
    "![Plot with colors](./images/plot_with_colors.png)"
   ]
  }
 ],
 "metadata": {
  "kernelspec": {
   "display_name": ".venv",
   "language": "python",
   "name": "python3"
  },
  "language_info": {
   "codemirror_mode": {
    "name": "ipython",
    "version": 3
   },
   "file_extension": ".py",
   "mimetype": "text/x-python",
   "name": "python",
   "nbconvert_exporter": "python",
   "pygments_lexer": "ipython3",
   "version": "3.10.11"
  }
 },
 "nbformat": 4,
 "nbformat_minor": 2
}
