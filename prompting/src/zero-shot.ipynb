{
 "cells": [
  {
   "cell_type": "markdown",
   "metadata": {},
   "source": [
    "# Zero-shot\n",
    "\n",
    "Zero-shot prompting is a prompt engineering technique where a model is given a task `without any prior examples or context`.\n",
    "\n",
    "The model relies entirely on its pre-trained knowledge to generate a response. This method is useful when you need quick, general responses without extra training data."
   ]
  },
  {
   "cell_type": "markdown",
   "metadata": {},
   "source": [
    "## Examples:\n",
    "\n",
    "### Question answering:\n",
    "``` bash\n",
    "Prompt: \"Who was the first president of the United States?\"\n",
    "Response: \"George Washington.\"\n",
    "```\n",
    "\n",
    "\n",
    "### Text Classification:\n",
    "``` bash\n",
    "Prompt: \"Classify the sentiment of this review: 'The product is amazing and works perfectly!'\"\n",
    "Response: \"Positive.\"\n",
    "```\n",
    "\n",
    "\n",
    "### Summarization:\n",
    "``` bash\n",
    "Prompt: \"Summarize this article in one sentence: [Paste article]\"\n",
    "Response: \"The article discusses the impact of climate change on global agriculture.\"\n",
    "```"
   ]
  }
 ],
 "metadata": {
  "language_info": {
   "name": "python"
  }
 },
 "nbformat": 4,
 "nbformat_minor": 2
}
