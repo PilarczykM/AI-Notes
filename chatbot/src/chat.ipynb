{
 "cells": [
  {
   "cell_type": "markdown",
   "metadata": {},
   "source": [
    "# Build a simple LLM application with chat models and prompt templates\n",
    "In this quickstart we'll show you how to build a simple LLM application with LangChain.\n",
    "\n",
    "This application will translate text from English into another language. This is a relatively simple LLM application - it's just a single LLM call plus some prompting. Still, this is a great way to get started with LangChain - a lot of features can be built with just some prompting and an LLM call!\n",
    "\n",
    "After reading this tutorial, you'll have a high level overview of:\n",
    "\n",
    "* Using [language models](https://python.langchain.com/docs/concepts/chat_models/)\n",
    "\n",
    "* Using [prompt templates](https://python.langchain.com/docs/concepts/prompt_templates/)"
   ]
  },
  {
   "cell_type": "markdown",
   "metadata": {},
   "source": [
    "## Using Language Model - in this case ollama 😍"
   ]
  },
  {
   "cell_type": "code",
   "execution_count": null,
   "metadata": {},
   "outputs": [],
   "source": [
    "from httpx import ConnectError\n",
    "from langchain_ollama import ChatOllama\n",
    "from ollama import ResponseError\n",
    "\n",
    "model = ChatOllama(model=\"llama3.2\")\n",
    "\n",
    "try:\n",
    "    print(model.invoke(\"Hello, how are you?\"))\n",
    "except (ConnectError, ResponseError) as e:\n",
    "    print(e)\n",
    "    exit(1)"
   ]
  },
  {
   "cell_type": "markdown",
   "metadata": {},
   "source": [
    "Let's first use the model directly. [ChatModels](https://python.langchain.com/docs/concepts/chat_models/) are instances of LangChain [Runnables](https://python.langchain.com/docs/concepts/runnables/), which means they expose a standard interface for interacting with them.\n",
    "\n",
    "To simply call the model, we can pass in a list of messages to the .invoke method."
   ]
  },
  {
   "cell_type": "code",
   "execution_count": null,
   "metadata": {},
   "outputs": [],
   "source": [
    "from langchain_core.messages import SystemMessage, HumanMessage\n",
    "\n",
    "messages = [\n",
    "    SystemMessage(\"Translate it from English to Spanish\"),\n",
    "    HumanMessage(\"Hello\")\n",
    "]\n",
    "\n",
    "print(model.invoke(messages))"
   ]
  },
  {
   "cell_type": "markdown",
   "metadata": {},
   "source": [
    "LangChain also supports chat model inputs via strings or [OpenAI format](https://python.langchain.com/docs/concepts/messages/#openai-format). The following are equivalent:"
   ]
  },
  {
   "cell_type": "code",
   "execution_count": null,
   "metadata": {},
   "outputs": [],
   "source": [
    "model.invoke(\"Hello\")\n",
    "\n",
    "model.invoke([{\"role\": \"user\", \"content\": \"Hello\"}])\n",
    "\n",
    "model.invoke([HumanMessage(\"Hello\")])"
   ]
  }
 ],
 "metadata": {
  "kernelspec": {
   "display_name": ".venv",
   "language": "python",
   "name": "python3"
  },
  "language_info": {
   "codemirror_mode": {
    "name": "ipython",
    "version": 3
   },
   "file_extension": ".py",
   "mimetype": "text/x-python",
   "name": "python",
   "nbconvert_exporter": "python",
   "pygments_lexer": "ipython3",
   "version": "3.9.21"
  }
 },
 "nbformat": 4,
 "nbformat_minor": 2
}
