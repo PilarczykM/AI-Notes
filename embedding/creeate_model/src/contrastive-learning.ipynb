{
 "cells": [
  {
   "cell_type": "markdown",
   "metadata": {},
   "source": [
    "# Contrastive Learning\n",
    "This example demonstrates how to implement a Contrastive Learning [Siamese Network](https://en.wikipedia.org/wiki/Siamese_neural_network) using Contrastive Loss to determine whether a pair of images are similar. Contrastive Loss was introduced by Yann Le Cunn et al. in the paper [\"Dimensionality Reduction by Learning an Invariant Mapping.\"](https://www.researchgate.net/publication/4246277_Dimensionality_Reduction_by_Learning_an_Invariant_Mapping).\n",
    "\n",
    "[Knowledge source](https://www.youtube.com/watch?v=GikIJpUv6oo)\n",
    "\n",
    "![Simese-network](./images/siamese-network.png)"
   ]
  },
  {
   "cell_type": "code",
   "execution_count": 98,
   "metadata": {},
   "outputs": [],
   "source": [
    "import os\n",
    "\n",
    "os.environ[\"KERAS_BACKEND\"] = \"torch\"\n",
    "import keras"
   ]
  },
  {
   "cell_type": "markdown",
   "metadata": {},
   "source": [
    "## Setup dataset"
   ]
  },
  {
   "cell_type": "markdown",
   "metadata": {},
   "source": [
    "### Download dataset from keras dataset module"
   ]
  },
  {
   "cell_type": "code",
   "execution_count": 99,
   "metadata": {},
   "outputs": [
    {
     "name": "stdout",
     "output_type": "stream",
     "text": [
      "X_train shape: (60000, 28, 28)\n",
      "Y_train shape: (60000,)\n"
     ]
    }
   ],
   "source": [
    "from keras import datasets\n",
    "\n",
    "(X_train, y_train), (X_test, y_test) = datasets.mnist.load_data()\n",
    "\n",
    "print(\"X_train shape:\", X_train.shape)\n",
    "print(\"Y_train shape:\", y_train.shape)"
   ]
  },
  {
   "cell_type": "markdown",
   "metadata": {},
   "source": [
    "### Display images with their labels"
   ]
  },
  {
   "cell_type": "code",
   "execution_count": 100,
   "metadata": {},
   "outputs": [
    {
     "data": {
      "image/png": "[encoded data removed]",
      "text/plain": [
       "<Figure size 640x480 with 10 Axes>"
      ]
     },
     "metadata": {},
     "output_type": "display_data"
    }
   ],
   "source": [
    "import matplotlib.pyplot as plt\n",
    "\n",
    "for i in range(10):\n",
    "    plt.subplot(1,10,i+1)\n",
    "    plt.imshow(X_train[i], cmap=\"gray\")\n",
    "    plt.title(y_train[i])\n",
    "    plt.axis(\"off\")"
   ]
  },
  {
   "cell_type": "markdown",
   "metadata": {},
   "source": [
    "### Reshaping data into correct array"
   ]
  },
  {
   "cell_type": "markdown",
   "metadata": {},
   "source": [
    "According to X_train shape, each image has `28 x 28` px dimension.\n",
    "\n",
    "We want to create a neutral network that receives every pixel as an input. Reshaping data into single array will take 28 x 28 = '784' pixels.\n",
    "\n",
    "![Shape input](./images/siamese-network-784.png)"
   ]
  },
  {
   "cell_type": "code",
   "execution_count": 101,
   "metadata": {},
   "outputs": [
    {
     "name": "stdout",
     "output_type": "stream",
     "text": [
      "X_train shape: (60000, 784)\n",
      "X_test shape: (10000, 784)\n",
      "Image as array: [  0   0   0   0   0   0   0   0   0   0   0   0   0   0   0   0   0   0\n",
      "   0   0   0   0   0   0   0   0   0   0   0   0   0   0   0   0   0   0\n",
      "   0   0   0   0   0   0   0   0   0   0   0   0   0   0   0   0   0   0\n",
      "   0   0   0   0   0   0   0   0   0   0   0   0   0   0   0   0   0   0\n",
      "   0   0   0   0   0   0   0   0   0   0   0   0   0   0   0   0   0   0\n",
      "   0   0   0   0   0   0   0   0   0   0   0   0   0   0   0   0   0   0\n",
      "   0   0   0   0   0   0   0   0   0   0   0   0   0   0   0   0   0   0\n",
      "   0   0   0   0   0   0   0   0   0   0   0   0   0   0   0   0   0   0\n",
      "   0   0   0   0   0   0   0   0   3  18  18  18 126 136 175  26 166 255\n",
      " 247 127   0   0   0   0   0   0   0   0   0   0   0   0  30  36  94 154\n",
      " 170 253 253 253 253 253 225 172 253 242 195  64   0   0   0   0   0   0\n",
      "   0   0   0   0   0  49 238 253 253 253 253 253 253 253 253 251  93  82\n",
      "  82  56  39   0   0   0   0   0   0   0   0   0   0   0   0  18 219 253\n",
      " 253 253 253 253 198 182 247 241   0   0   0   0   0   0   0   0   0   0\n",
      "   0   0   0   0   0   0   0   0  80 156 107 253 253 205  11   0  43 154\n",
      "   0   0   0   0   0   0   0   0   0   0   0   0   0   0   0   0   0   0\n",
      "   0  14   1 154 253  90   0   0   0   0   0   0   0   0   0   0   0   0\n",
      "   0   0   0   0   0   0   0   0   0   0   0   0   0 139 253 190   2   0\n",
      "   0   0   0   0   0   0   0   0   0   0   0   0   0   0   0   0   0   0\n",
      "   0   0   0   0   0  11 190 253  70   0   0   0   0   0   0   0   0   0\n",
      "   0   0   0   0   0   0   0   0   0   0   0   0   0   0   0   0  35 241\n",
      " 225 160 108   1   0   0   0   0   0   0   0   0   0   0   0   0   0   0\n",
      "   0   0   0   0   0   0   0   0   0  81 240 253 253 119  25   0   0   0\n",
      "   0   0   0   0   0   0   0   0   0   0   0   0   0   0   0   0   0   0\n",
      "   0   0  45 186 253 253 150  27   0   0   0   0   0   0   0   0   0   0\n",
      "   0   0   0   0   0   0   0   0   0   0   0   0   0  16  93 252 253 187\n",
      "   0   0   0   0   0   0   0   0   0   0   0   0   0   0   0   0   0   0\n",
      "   0   0   0   0   0   0   0 249 253 249  64   0   0   0   0   0   0   0\n",
      "   0   0   0   0   0   0   0   0   0   0   0   0   0   0  46 130 183 253\n",
      " 253 207   2   0   0   0   0   0   0   0   0   0   0   0   0   0   0   0\n",
      "   0   0   0   0  39 148 229 253 253 253 250 182   0   0   0   0   0   0\n",
      "   0   0   0   0   0   0   0   0   0   0   0   0  24 114 221 253 253 253\n",
      " 253 201  78   0   0   0   0   0   0   0   0   0   0   0   0   0   0   0\n",
      "   0   0  23  66 213 253 253 253 253 198  81   2   0   0   0   0   0   0\n",
      "   0   0   0   0   0   0   0   0   0   0  18 171 219 253 253 253 253 195\n",
      "  80   9   0   0   0   0   0   0   0   0   0   0   0   0   0   0   0   0\n",
      "  55 172 226 253 253 253 253 244 133  11   0   0   0   0   0   0   0   0\n",
      "   0   0   0   0   0   0   0   0   0   0 136 253 253 253 212 135 132  16\n",
      "   0   0   0   0   0   0   0   0   0   0   0   0   0   0   0   0   0   0\n",
      "   0   0   0   0   0   0   0   0   0   0   0   0   0   0   0   0   0   0\n",
      "   0   0   0   0   0   0   0   0   0   0   0   0   0   0   0   0   0   0\n",
      "   0   0   0   0   0   0   0   0   0   0   0   0   0   0   0   0   0   0\n",
      "   0   0   0   0   0   0   0   0   0   0   0   0   0   0   0   0   0   0\n",
      "   0   0   0   0   0   0   0   0   0   0]\n"
     ]
    }
   ],
   "source": [
    "image_array_size = 784\n",
    "X_train = X_train.reshape(-1, image_array_size)\n",
    "X_test = X_test.reshape(-1, image_array_size)\n",
    "\n",
    "print(\"X_train shape:\", X_train.shape)\n",
    "print(\"X_test shape:\", X_test.shape)\n",
    "print(\"Image as array:\", X_train[0])"
   ]
  },
  {
   "cell_type": "markdown",
   "metadata": {},
   "source": [
    "### Normalize data"
   ]
  },
  {
   "cell_type": "markdown",
   "metadata": {},
   "source": [
    "We now want to normalize the pixel values to a range between 0 and 1 (instead of 0 to 255).\n",
    "\n",
    "> This approach is common because neural networks tend to perform better with smaller, normalized values. They prefer inputs scaled between 0 and 1, even if the relative differences remain the same.\n",
    "\n",
    "We can use the min-max normalization formula for this:\n",
    "\n",
    "![Normalize function](./images/normalize_function.png)\n",
    "\n",
    "Here is what the code to implement this formula would look like:\n",
    "\n",
    "    X_train = (X_train - X_train.min()) / (X_train.max() - X_train.min())\n",
    "For an image, X_train.min() is 0 and X_train.max() is 255, so we can simplify the formula to:\n",
    "\n",
    "    X_train = X_train / 255.0"
   ]
  },
  {
   "cell_type": "code",
   "execution_count": 102,
   "metadata": {},
   "outputs": [],
   "source": [
    "X_train = X_train / 255.0\n",
    "X_test = X_test / 255.0"
   ]
  },
  {
   "cell_type": "markdown",
   "metadata": {},
   "source": [
    "### Generate the pairs for training and testing the model:"
   ]
  },
  {
   "cell_type": "markdown",
   "metadata": {},
   "source": [
    "We'll train a `Siamese Network` using positive and negative pairs of images. A positive pair consists of two images representing the same digit, while a negative pair consists of two images representing different digits."
   ]
  },
  {
   "cell_type": "code",
   "execution_count": 103,
   "metadata": {},
   "outputs": [],
   "source": [
    "import numpy as np\n",
    "\n",
    "\n",
    "def generate_pairs(X, y):\n",
    "    \"\"\"\n",
    "    Creates a collection of positive and negative image pairs from the supplied\n",
    "    array of images.\n",
    "\n",
    "    A positive pair contains two images of the same digit. A negative pair contains\n",
    "    two images representing different digits.\n",
    "    \"\"\"\n",
    "\n",
    "    X_pairs = []\n",
    "    y_pairs = []\n",
    "\n",
    "    for i in range(len(X)):\n",
    "        digit = y[i]\n",
    "\n",
    "        # Find a random image representing the same digit.\n",
    "        # This is a positive pair.\n",
    "        positive_digit_index = np.random.choice(np.where(y == digit)[0])\n",
    "\n",
    "        # Add the pair of images to the list.\n",
    "        X_pairs.append([X[i], X[positive_digit_index]])\n",
    "\n",
    "        # Since this is a positive pair, the ground truth label is 0.\n",
    "        # The distance between images representing the same digit should be small,\n",
    "        # and that's why we use 0 as the label.\n",
    "        y_pairs.append([0])\n",
    "\n",
    "        # Find a random image representing a different digit.\n",
    "        # This is a negative pair.\n",
    "        negative_digit_index = np.random.choice(np.where(y != digit)[0])\n",
    "\n",
    "        # Add the pair of images to the list.\n",
    "        X_pairs.append([X[i], X[negative_digit_index]])\n",
    "\n",
    "        # Since this is a negative pair, the ground truth label is 1.\n",
    "        # The distance between images representing different digits should be large,\n",
    "        # and that's why we use 1 as the label.\n",
    "        y_pairs.append([1])\n",
    "\n",
    "    indices = np.arange(len(X_pairs))\n",
    "    np.random.shuffle(indices)\n",
    "\n",
    "    return np.array(X_pairs)[indices], np.array(y_pairs)[indices]"
   ]
  },
  {
   "cell_type": "code",
   "execution_count": 104,
   "metadata": {},
   "outputs": [
    {
     "name": "stdout",
     "output_type": "stream",
     "text": [
      "X_train_pairs shape: (120000, 2, 784)\n",
      "X_test_pairs shape: (20000, 2, 784)\n"
     ]
    }
   ],
   "source": [
    "X_train_pairs, y_train_pairs = generate_pairs(X_train, y_train)\n",
    "X_test_pairs, y_test_pairs = generate_pairs(X_test, y_test)\n",
    "\n",
    "print(\"X_train_pairs shape:\", X_train_pairs.shape)\n",
    "print(\"X_test_pairs shape:\", X_test_pairs.shape)"
   ]
  },
  {
   "cell_type": "markdown",
   "metadata": {},
   "source": [
    "Display some of these pairs to ensure they were generated correctly:"
   ]
  },
  {
   "cell_type": "code",
   "execution_count": 105,
   "metadata": {},
   "outputs": [
    {
     "data": {
      "image/png": "[encoded data removed]",
      "text/plain": [
       "<Figure size 2000x600 with 20 Axes>"
      ]
     },
     "metadata": {},
     "output_type": "display_data"
    }
   ],
   "source": [
    "def display_pairs(X, y, correct=None):\n",
    "    \"\"\"\n",
    "    Displays the first ten pairs from the supplied array.\n",
    "\n",
    "    Args:\n",
    "        - X: An array containing the image pairs.\n",
    "        - y: An array containing the corresponding label (0 if both\n",
    "            pairs are the same, and 1 if both pairs are different.)\n",
    "        - correct (optional): An array of boolean values indicating whether\n",
    "            the supplied labels correctly represent the image pairs.\n",
    "    \"\"\"\n",
    "\n",
    "    n = 10\n",
    "\n",
    "    plt.figure(figsize=(20, 6))\n",
    "    for i, (image1, image2) in enumerate(zip(X[:n, 0], X[:n, 1])):\n",
    "        label = int(y[:n][i][0])\n",
    "\n",
    "        text = \"Positive\" if label == 0 else \"Negative\"\n",
    "        color = \"silver\"\n",
    "\n",
    "        # If we know whether the supplied labels are correct, let's change the\n",
    "        # text and the face color of the annotation on the chart.\n",
    "        if correct is not None:\n",
    "            text = \"Same\" if label == 0 else \"Different\"\n",
    "            color = \"mediumseagreen\" if correct[:n][i][0] else \"indianred\"\n",
    "\n",
    "        ax = plt.subplot(3, n, i + 1)\n",
    "        ax.text(\n",
    "            1,\n",
    "            -3,\n",
    "            text,\n",
    "            style=\"italic\",\n",
    "            bbox={\"facecolor\": color, \"pad\": 4},\n",
    "        )\n",
    "\n",
    "        plt.imshow(image1.reshape(28, 28), cmap=\"gray\")\n",
    "        plt.axis(\"off\")\n",
    "\n",
    "        ax = plt.subplot(3, n, i + 1 + n)\n",
    "        plt.imshow(image2.reshape(28, 28), cmap=\"gray\")\n",
    "        plt.axis(\"off\")\n",
    "\n",
    "    plt.show()\n",
    "\n",
    "\n",
    "display_pairs(X_train_pairs, y_train_pairs)"
   ]
  },
  {
   "cell_type": "markdown",
   "metadata": {},
   "source": [
    "## Building Siamese Network"
   ]
  },
  {
   "cell_type": "markdown",
   "metadata": {},
   "source": [
    "It's time to start building the [Siamese Network](https://en.wikipedia.org/wiki/Siamese_neural_network). Let's first define the inputs that will receive the pair of images:"
   ]
  },
  {
   "cell_type": "code",
   "execution_count": 106,
   "metadata": {},
   "outputs": [],
   "source": [
    "from keras import Input\n",
    "\n",
    "input1 = Input(shape=(image_array_size,))\n",
    "input2 = Input(shape=(image_array_size,))"
   ]
  },
  {
   "cell_type": "markdown",
   "metadata": {},
   "source": [
    "### Neuron network Siamese Network"
   ]
  },
  {
   "cell_type": "markdown",
   "metadata": {},
   "source": [
    "Then, we can build the body of the Siamese Network. This network will be responsible of generating the embeddings for each of the input images:\n",
    "\n",
    "![Embedding](./images/siamese-network-128.png)"
   ]
  },
  {
   "cell_type": "code",
   "execution_count": 107,
   "metadata": {},
   "outputs": [],
   "source": [
    "from keras.layers import Dense\n",
    "from keras.models import Sequential\n",
    "\n",
    "network = Sequential(\n",
    "    [\n",
    "        Input(shape=(784,)),  # Flattened 28x28 image input\n",
    "        Dense(512, activation=\"relu\"),\n",
    "        Dense(256, activation=\"relu\"),\n",
    "        Dense(128, activation=None),  \n",
    "    ]\n",
    ")"
   ]
  },
  {
   "cell_type": "markdown",
   "metadata": {},
   "source": [
    "> IMAGE OF NEUTRAL NETWORK WITH HIGHLIGHT PHASE\n",
    "\n",
    "Our network will have two branches, each one responsible for processing one of the images in the pair. We want to share the same weights between the branches, so we'll use the same network instance:"
   ]
  },
  {
   "cell_type": "code",
   "execution_count": 108,
   "metadata": {},
   "outputs": [],
   "source": [
    "twin1 = network(input1)\n",
    "twin2 = network(input2)"
   ]
  },
  {
   "cell_type": "markdown",
   "metadata": {},
   "source": [
    "### Distance"
   ]
  },
  {
   "cell_type": "markdown",
   "metadata": {},
   "source": [
    "The output of the Siamese Network will be the distance between the embeddings of the two images. To do this, we can use a `Lambda` layer to calculate the [`Euclidean distance`](https://en.wikipedia.org/wiki/Euclidean_distance) between the embeddings:"
   ]
  },
  {
   "cell_type": "code",
   "execution_count": 109,
   "metadata": {},
   "outputs": [],
   "source": [
    "from keras.layers import Lambda\n",
    "from keras.ops import norm\n",
    "\n",
    "\n",
    "def euclidean_distance(twins):\n",
    "    \"\"\"Compute the euclidean distance (norm) of the output of\n",
    "    the twin networks.\n",
    "    \"\"\"\n",
    "    twin1_output, twin2_output = twins\n",
    "    return norm(twin1_output - twin2_output, axis=1, keepdims=True)\n",
    "\n",
    "\n",
    "distance = Lambda(euclidean_distance)([twin1, twin2])"
   ]
  },
  {
   "cell_type": "markdown",
   "metadata": {},
   "source": [
    "### Model setup"
   ]
  },
  {
   "cell_type": "code",
   "execution_count": 110,
   "metadata": {},
   "outputs": [],
   "source": [
    "from keras import Model\n",
    "\n",
    "model = Model(inputs=[input1, input2], outputs=distance)"
   ]
  },
  {
   "cell_type": "markdown",
   "metadata": {},
   "source": [
    "We'll use the Contrastive Loss to train the model. You can find the formula of this loss in the paper [\"Dimensionality Reduction by Learning an Invariant Mapping.\"](https://www.researchgate.net/publication/4246277_Dimensionality_Reduction_by_Learning_an_Invariant_Mapping)."
   ]
  },
  {
   "cell_type": "code",
   "execution_count": 111,
   "metadata": {},
   "outputs": [],
   "source": [
    "from keras.ops import cast, maximum, square\n",
    "\n",
    "\n",
    "def contrastive_loss(y, d):\n",
    "    \"\"\"\n",
    "    Compute the contrastive loss introduced by Yann LeCun et al. in the paper\n",
    "    \"Dimensionality Reduction by Learning an Invariant Mapping.\"\n",
    "    \"\"\"\n",
    "\n",
    "    margin = 1\n",
    "    y = cast(y, d.dtype)\n",
    "\n",
    "    loss = (1 - y) / 2 * square(d) + y / 2 * square(maximum(0.0, margin - d))\n",
    "\n",
    "    return loss"
   ]
  },
  {
   "cell_type": "markdown",
   "metadata": {},
   "source": [
    "Let's compile the model using the Contrastive Loss:"
   ]
  },
  {
   "cell_type": "code",
   "execution_count": 112,
   "metadata": {},
   "outputs": [],
   "source": [
    "from keras.metrics import binary_accuracy\n",
    "\n",
    "model.compile(loss=contrastive_loss, optimizer=\"adam\", metrics=[binary_accuracy])"
   ]
  },
  {
   "cell_type": "code",
   "execution_count": 113,
   "metadata": {},
   "outputs": [
    {
     "name": "stdout",
     "output_type": "stream",
     "text": [
      "You must install graphviz (see instructions at https://graphviz.gitlab.io/download/) for `plot_model` to work.\n"
     ]
    }
   ],
   "source": [
    "keras.utils.plot_model(\n",
    "    model, to_file=\"model.png\", show_shapes=True, show_layer_names=False\n",
    ")"
   ]
  },
  {
   "cell_type": "code",
   "execution_count": 114,
   "metadata": {},
   "outputs": [
    {
     "name": "stdout",
     "output_type": "stream",
     "text": [
      "Epoch 1/5\n",
      "\u001b[1m3750/3750\u001b[0m \u001b[32m━━━━━━━━━━━━━━━━━━━━\u001b[0m\u001b[37m\u001b[0m \u001b[1m42s\u001b[0m 11ms/step - binary_accuracy: 0.8955 - loss: 0.0511 - val_binary_accuracy: 0.9692 - val_loss: 0.0190\n",
      "Epoch 2/5\n",
      "\u001b[1m3750/3750\u001b[0m \u001b[32m━━━━━━━━━━━━━━━━━━━━\u001b[0m\u001b[37m\u001b[0m \u001b[1m41s\u001b[0m 11ms/step - binary_accuracy: 0.9779 - loss: 0.0147 - val_binary_accuracy: 0.9678 - val_loss: 0.0167\n",
      "Epoch 3/5\n",
      "\u001b[1m3750/3750\u001b[0m \u001b[32m━━━━━━━━━━━━━━━━━━━━\u001b[0m\u001b[37m\u001b[0m \u001b[1m42s\u001b[0m 11ms/step - binary_accuracy: 0.9861 - loss: 0.0100 - val_binary_accuracy: 0.9709 - val_loss: 0.0138\n",
      "Epoch 4/5\n",
      "\u001b[1m3750/3750\u001b[0m \u001b[32m━━━━━━━━━━━━━━━━━━━━\u001b[0m\u001b[37m\u001b[0m \u001b[1m47s\u001b[0m 13ms/step - binary_accuracy: 0.9903 - loss: 0.0073 - val_binary_accuracy: 0.9719 - val_loss: 0.0130\n",
      "Epoch 5/5\n",
      "\u001b[1m3750/3750\u001b[0m \u001b[32m━━━━━━━━━━━━━━━━━━━━\u001b[0m\u001b[37m\u001b[0m \u001b[1m43s\u001b[0m 11ms/step - binary_accuracy: 0.9928 - loss: 0.0057 - val_binary_accuracy: 0.9689 - val_loss: 0.0136\n"
     ]
    }
   ],
   "source": [
    "history = model.fit(\n",
    "    x=[X_train_pairs[:, 0], X_train_pairs[:, 1]],\n",
    "    y=y_train_pairs[:],\n",
    "    validation_data=([X_test_pairs[:, 0], X_test_pairs[:, 1]], y_test_pairs[:]),\n",
    "    batch_size=32,\n",
    "    epochs=5,\n",
    ")"
   ]
  },
  {
   "cell_type": "code",
   "execution_count": 115,
   "metadata": {},
   "outputs": [
    {
     "data": {
      "image/png": "[encoded data removed]",
      "text/plain": [
       "<Figure size 640x480 with 1 Axes>"
      ]
     },
     "metadata": {},
     "output_type": "display_data"
    }
   ],
   "source": [
    "plt.plot(history.history[\"loss\"])\n",
    "plt.plot(history.history[\"val_loss\"])\n",
    "plt.title(\"Training and Validation Loss\")\n",
    "plt.ylabel(\"loss\")\n",
    "plt.xlabel(\"epoch\")\n",
    "plt.legend([\"train\", \"val\"], loc=\"upper right\")\n",
    "plt.show()"
   ]
  },
  {
   "cell_type": "markdown",
   "metadata": {},
   "source": [
    "## Validation"
   ]
  },
  {
   "cell_type": "markdown",
   "metadata": {},
   "source": [
    "Let's evaluate the model using the test data and display some of the predictions:"
   ]
  },
  {
   "cell_type": "code",
   "execution_count": 116,
   "metadata": {},
   "outputs": [
    {
     "name": "stdout",
     "output_type": "stream",
     "text": [
      "\u001b[1m625/625\u001b[0m \u001b[32m━━━━━━━━━━━━━━━━━━━━\u001b[0m\u001b[37m\u001b[0m \u001b[1m1s\u001b[0m 2ms/step\n"
     ]
    },
    {
     "data": {
      "image/png": "[encoded data removed]",
      "text/plain": [
       "<Figure size 2000x600 with 20 Axes>"
      ]
     },
     "metadata": {},
     "output_type": "display_data"
    }
   ],
   "source": [
    "predictions = model.predict([X_test_pairs[:, 0], X_test_pairs[:, 1]]) >= 0.5\n",
    "display_pairs(X_test_pairs, predictions, predictions == y_test_pairs)"
   ]
  },
  {
   "cell_type": "markdown",
   "metadata": {},
   "source": [
    "### Accuracy"
   ]
  },
  {
   "cell_type": "markdown",
   "metadata": {},
   "source": [
    "Finally, we can compute the accuracy of the model on the test data:"
   ]
  },
  {
   "cell_type": "code",
   "execution_count": 117,
   "metadata": {},
   "outputs": [
    {
     "name": "stdout",
     "output_type": "stream",
     "text": [
      "Accuracy: 0.97\n"
     ]
    }
   ],
   "source": [
    "accuracy = keras.metrics.BinaryAccuracy()\n",
    "accuracy.update_state(y_test_pairs, predictions.astype(int))\n",
    "print(f\"Accuracy: {accuracy.result().cpu().numpy():.2f}\")"
   ]
  },
  {
   "cell_type": "markdown",
   "metadata": {},
   "source": [
    "### Model layers"
   ]
  },
  {
   "cell_type": "markdown",
   "metadata": {},
   "source": [
    "These are the different layers of the model we trained:"
   ]
  },
  {
   "cell_type": "code",
   "execution_count": 118,
   "metadata": {},
   "outputs": [
    {
     "data": {
      "text/plain": [
       "[<InputLayer name=input_layer_10, built=True>,\n",
       " <InputLayer name=input_layer_11, built=True>,\n",
       " <Sequential name=sequential_4, built=True>,\n",
       " <Lambda name=lambda_4, built=True>]"
      ]
     },
     "execution_count": 118,
     "metadata": {},
     "output_type": "execute_result"
    }
   ],
   "source": [
    "model.layers"
   ]
  },
  {
   "cell_type": "markdown",
   "metadata": {},
   "source": [
    "We can reference the sequential model to generate embeddings for new images:"
   ]
  },
  {
   "cell_type": "code",
   "execution_count": 119,
   "metadata": {},
   "outputs": [],
   "source": [
    "embedding_model: Sequential = model.layers[2]"
   ]
  },
  {
   "cell_type": "markdown",
   "metadata": {},
   "source": [
    "### Validate scenario"
   ]
  },
  {
   "cell_type": "markdown",
   "metadata": {},
   "source": [
    "Let's select two random images representing the digit `3`, and one image representing the digit `7`:"
   ]
  },
  {
   "cell_type": "code",
   "execution_count": 120,
   "metadata": {},
   "outputs": [
    {
     "data": {
      "text/plain": [
       "(np.int64(2931), np.int64(7675), np.int64(1361))"
      ]
     },
     "execution_count": 120,
     "metadata": {},
     "output_type": "execute_result"
    }
   ],
   "source": [
    "digits = np.where(y_test == 3)[0]\n",
    "index1 = np.random.choice(digits)\n",
    "index2 = np.random.choice(digits)\n",
    "index3 = np.random.choice(np.where(y_test == 7)[0])\n",
    "\n",
    "index1, index2, index3"
   ]
  },
  {
   "cell_type": "markdown",
   "metadata": {},
   "source": [
    "We can generate the embeddings for these `3` images:"
   ]
  },
  {
   "cell_type": "code",
   "execution_count": 121,
   "metadata": {},
   "outputs": [
    {
     "name": "stdout",
     "output_type": "stream",
     "text": [
      "\u001b[1m1/1\u001b[0m \u001b[32m━━━━━━━━━━━━━━━━━━━━\u001b[0m\u001b[37m\u001b[0m \u001b[1m0s\u001b[0m 4ms/step\n",
      "\u001b[1m1/1\u001b[0m \u001b[32m━━━━━━━━━━━━━━━━━━━━\u001b[0m\u001b[37m\u001b[0m \u001b[1m0s\u001b[0m 2ms/step\n",
      "\u001b[1m1/1\u001b[0m \u001b[32m━━━━━━━━━━━━━━━━━━━━\u001b[0m\u001b[37m\u001b[0m \u001b[1m0s\u001b[0m 1ms/step\n"
     ]
    }
   ],
   "source": [
    "embedding1 = embedding_model.predict(X_test[index1].reshape(1, -1))\n",
    "embedding2 = embedding_model.predict(X_test[index2].reshape(1, -1))\n",
    "embedding3 = embedding_model.predict(X_test[index3].reshape(1, -1))"
   ]
  },
  {
   "cell_type": "markdown",
   "metadata": {},
   "source": [
    "#### Validate positive scenario"
   ]
  },
  {
   "cell_type": "markdown",
   "metadata": {},
   "source": [
    "The distance between the embeddings of the two images representing the digit 3 should be really small (close to 0):"
   ]
  },
  {
   "cell_type": "code",
   "execution_count": 122,
   "metadata": {},
   "outputs": [
    {
     "data": {
      "text/plain": [
       "array(0.05435073, dtype=float32)"
      ]
     },
     "execution_count": 122,
     "metadata": {},
     "output_type": "execute_result"
    }
   ],
   "source": [
    "norm(embedding1 - embedding2).cpu().numpy()"
   ]
  },
  {
   "cell_type": "markdown",
   "metadata": {},
   "source": [
    "#### Validate negative scenario"
   ]
  },
  {
   "cell_type": "markdown",
   "metadata": {},
   "source": [
    "The distances between the embeddings of the images representing the digit 3 and the image representing the digit 7 should be large (close to 1):"
   ]
  },
  {
   "cell_type": "code",
   "execution_count": 123,
   "metadata": {},
   "outputs": [
    {
     "data": {
      "text/plain": [
       "(array(1.0814806, dtype=float32), array(1.0337956, dtype=float32))"
      ]
     },
     "execution_count": 123,
     "metadata": {},
     "output_type": "execute_result"
    }
   ],
   "source": [
    "norm(embedding1 - embedding3).cpu().numpy(), norm(embedding2 - embedding3).cpu().numpy()"
   ]
  },
  {
   "cell_type": "markdown",
   "metadata": {},
   "source": [
    "## Save model"
   ]
  },
  {
   "cell_type": "code",
   "execution_count": 124,
   "metadata": {},
   "outputs": [],
   "source": [
    "embedding_model.save(\"model/number_predictor.keras\")"
   ]
  }
 ],
 "metadata": {
  "kernelspec": {
   "display_name": ".venv",
   "language": "python",
   "name": "python3"
  },
  "language_info": {
   "codemirror_mode": {
    "name": "ipython",
    "version": 3
   },
   "file_extension": ".py",
   "mimetype": "text/x-python",
   "name": "python",
   "nbconvert_exporter": "python",
   "pygments_lexer": "ipython3",
   "version": "3.10.11"
  }
 },
 "nbformat": 4,
 "nbformat_minor": 2
}
