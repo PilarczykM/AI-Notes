{
 "cells": [
  {
   "cell_type": "markdown",
   "metadata": {},
   "source": [
    "## Transcribing the YouTube Video\n",
    "The context we want to send the model comes from a YouTube video. Let's download the video and transcribe it using [OpenAI's Whisper](https://openai.com/index/whisper/)."
   ]
  },
  {
   "cell_type": "code",
   "execution_count": null,
   "metadata": {},
   "outputs": [],
   "source": [
    "from pathlib import Path\n",
    "import tempfile\n",
    "import whisper\n",
    "from yt_dlp import YoutubeDL\n",
    "\n",
    "YOUTUBE_VIDEO = \"https://www.youtube.com/watch?v=cdiD-9MMpb0\"\n",
    "TEMP_DIR = Path(\"..\") / Path(\"temp\")\n",
    "TRANSCRIPT_FILE = (Path(\"..\") / Path(\"transcription.txt\"))\n",
    "\n",
    "if not TRANSCRIPT_FILE.exists():\n",
    "    # Create a temporary directory\n",
    "    with tempfile.TemporaryDirectory(dir=TEMP_DIR) as temp_dir:\n",
    "        # Define the URL of the YouTube video\n",
    "\n",
    "        # Set up yt-dlp options\n",
    "        ydl_opts = {\n",
    "            \"verbose\": True,\n",
    "            \"format\": \"m4a/bestaudio/best\",\n",
    "            \"outtmpl\": str(Path(temp_dir) / Path(\"%(title)s.%(ext)s\" )),\n",
    "        }\n",
    "\n",
    "        # Download the audio\n",
    "        with YoutubeDL(ydl_opts) as ydl:\n",
    "            error_code = ydl.download([YOUTUBE_VIDEO])\n",
    "            if error_code != 0:\n",
    "                raise Exception(\"Error downloading the video\")\n",
    "\n",
    "        # Load whisper model\n",
    "        whisper_model = whisper.load_model(\"base\")\n",
    "\n",
    "        # Foreach audio file in the temporary directory\n",
    "        for file in Path(temp_dir).iterdir():\n",
    "            if file.suffix == \".m4a\":\n",
    "                # Transcribe the audio\n",
    "                transcription = whisper_model.transcribe(str(file), fp16=False, verbose=True)[\"text\"].strip()\n",
    "            \n",
    "            # Write the transcription to a file\n",
    "            with TRANSCRIPT_FILE.open(\"w\") as file:\n",
    "                    file.write(transcription)"
   ]
  }
 ],
 "metadata": {
  "kernelspec": {
   "display_name": ".venv",
   "language": "python",
   "name": "python3"
  },
  "language_info": {
   "codemirror_mode": {
    "name": "ipython",
    "version": 3
   },
   "file_extension": ".py",
   "mimetype": "text/x-python",
   "name": "python",
   "nbconvert_exporter": "python",
   "pygments_lexer": "ipython3",
   "version": "3.9.21"
  }
 },
 "nbformat": 4,
 "nbformat_minor": 2
}
