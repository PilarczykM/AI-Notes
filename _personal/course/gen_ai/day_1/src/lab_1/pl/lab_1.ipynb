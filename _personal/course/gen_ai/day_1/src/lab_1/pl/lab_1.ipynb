{
  "cells": [
    {
      "cell_type": "markdown",
      "metadata": {
        "id": "YAWSqzbnRmQZ"
      },
      "source": [
        "# Setup"
      ]
    },
    {
      "cell_type": "code",
      "execution_count": null,
      "metadata": {
        "_cell_guid": "b1076dfc-b9ad-4769-8c92-a6c4dae69d19",
        "_kg_hide-output": true,
        "_uuid": "8f2839f25d086af736a60e9eeb907d3b93b6e0e5",
        "execution": {
          "iopub.execute_input": "2024-08-31T16:37:01.247668Z",
          "iopub.status.busy": "2024-08-31T16:37:01.247129Z",
          "iopub.status.idle": "2024-08-31T16:37:16.940443Z",
          "shell.execute_reply": "2024-08-31T16:37:16.938897Z",
          "shell.execute_reply.started": "2024-08-31T16:37:01.247625Z"
        },
        "id": "ScBuaIU2QDKG",
        "trusted": true
      },
      "outputs": [],
      "source": [
        "# !pip install -qU openai\n",
        "# from google.colab import userdata"
      ]
    },
    {
      "cell_type": "code",
      "execution_count": 27,
      "metadata": {
        "_kg_hide-output": true,
        "execution": {
          "iopub.execute_input": "2024-08-31T16:37:16.943451Z",
          "iopub.status.busy": "2024-08-31T16:37:16.943042Z",
          "iopub.status.idle": "2024-08-31T16:37:16.949394Z",
          "shell.execute_reply": "2024-08-31T16:37:16.948163Z",
          "shell.execute_reply.started": "2024-08-31T16:37:16.943406Z"
        },
        "id": "dBNe3bicQDKQ",
        "trusted": true
      },
      "outputs": [],
      "source": [
        "from openai import OpenAI"
      ]
    },
    {
      "cell_type": "markdown",
      "metadata": {},
      "source": [
        "## Konfiguracja\n",
        "\n",
        "### ⚙️ Klasa `CFG` - Ustawienia Konfiguracyjne Modelu  \n",
        "\n",
        "Klasa `CFG` to **panel sterowania** dla modelu językowego. Umożliwia ustawienie kluczowych parametrów przed uruchomieniem modelu.\n",
        "\n",
        "---\n",
        "\n",
        "### 🔧 Główne ustawienia:  \n",
        "\n",
        "- **Model językowy**  \n",
        "  ```model = 'llama3.2:latest'```  \n",
        "  Określa, który model będzie używany do generowania odpowiedzi.\n",
        "\n",
        "- **Maksymalna długość odpowiedzi**  \n",
        "  ```num_tokens = 2000```  \n",
        "  Ustala maksymalną długość wygenerowanego tekstu (do 2000 tokenów).  \n",
        "  > 📘 *Token* to jednostka tekstu - słowo, część słowa lub znak interpunkcyjny.\n",
        "\n",
        "- **Kreatywność odpowiedzi**  \n",
        "  ```temperature = 0.7```  \n",
        "  Steruje poziomem kreatywności modelu:  \n",
        "  - 🔵 **Niska wartość (0)** → Bardziej przewidywalne odpowiedzi  \n",
        "  - 🔴 **Wysoka wartość (1)** → Bardziej kreatywne i zróżnicowane odpowiedzi  \n",
        "  - ⚖️ **0.7** → Złoty środek między przewidywalnością a kreatywnością  \n",
        "\n",
        "---\n",
        "\n",
        "### 🎯 Zalety:  \n",
        "Dzięki klasie `CFG` wszystkie ustawienia są w **jednym miejscu**, co ułatwia ich modyfikację bez przeszukiwania całego kodu.\n"
      ]
    },
    {
      "cell_type": "code",
      "execution_count": 28,
      "metadata": {
        "id": "OQjnZSN3SBtu"
      },
      "outputs": [],
      "source": [
        "class CFG:\n",
        "    base_url = \"http://localhost:11434/v1\"\n",
        "    api_key = \"ollama\"  # required, but unused\n",
        "    model = \"llama3.2:latest\"\n",
        "    num_tokens = 2000\n",
        "    temperature = 0.7"
      ]
    },
    {
      "cell_type": "markdown",
      "metadata": {},
      "source": [
        "### 🔑 Tworzenie klienta do API OpenAI  \n",
        "\n",
        "Ta linia kodu tworzy **klienta** do komunikacji z API OpenAI, co umożliwia bezpieczne korzystanie z usług OpenAI.\n",
        "\n",
        "---\n",
        "\n",
        "### 📘 Rozbicie na części:  \n",
        "\n",
        "- **Tworzenie zmiennej**  \n",
        "  ```client =```  \n",
        "  - Przechowuje obiekt do komunikacji z OpenAI.\n",
        "\n",
        "- **Wywołanie konstruktora**  \n",
        "  ```OpenAI()```  \n",
        "  - Tworzy nowy obiekt klienta za pomocą klasy **OpenAI**, wcześniej zaimportowanej.\n",
        "\n",
        "- **Uwierzytelnianie za pomocą klucza API**  \n",
        "  ```api_key = userdata.get('openaivision')```  \n",
        "  - Klucz API **potwierdza nasze uprawnienia** do korzystania z usług OpenAI.  \n",
        "  - 🔒 Klucz jest pobierany z **bezpiecznego magazynu danych** Google Colab, co chroni go przed ujawnieniem w kodzie.\n"
      ]
    },
    {
      "cell_type": "code",
      "execution_count": null,
      "metadata": {
        "execution": {
          "iopub.execute_input": "2024-08-31T16:37:16.951017Z",
          "iopub.status.busy": "2024-08-31T16:37:16.950684Z",
          "iopub.status.idle": "2024-08-31T16:37:17.274403Z",
          "shell.execute_reply": "2024-08-31T16:37:17.273397Z",
          "shell.execute_reply.started": "2024-08-31T16:37:16.950981Z"
        },
        "id": "lQgQUhAoQDKS",
        "trusted": true
      },
      "outputs": [],
      "source": [
        "import os\n",
        "from dotenv import load_dotenv\n",
        "\n",
        "load_dotenv()\n",
        "\n",
        "def assert_env_key(key: str | None, name: str) -> None:\n",
        "    if not key:\n",
        "        raise ValueError(f\"{name} is not set, please update .env file\")\n",
        "    \n",
        "OPENAI_API_KEY_NAME = \"OPENAI_API_KEY\"\n",
        "OPENAI_API_KEY = os.getenv(OPENAI_API_KEY_NAME)\n",
        "# OPENAI_API_KEY = userdata.get(OPENAI_API_KEY_NAME) # Google colab env retrieval option\n",
        "assert_env_key(OPENAI_API_KEY, OPENAI_API_KEY_NAME)\n",
        "\n",
        "client = OpenAI(base_url=CFG.base_url, api_key=OPENAI_API_KEY)"
      ]
    },
    {
      "cell_type": "markdown",
      "metadata": {
        "id": "9TkJZ9QFV1WB"
      },
      "source": [
        "# Eksperymant"
      ]
    },
    {
      "cell_type": "markdown",
      "metadata": {},
      "source": [
        "### 💬 Tworzenie zapytania do API OpenAI i przetwarzanie odpowiedzi  \n",
        "\n",
        "Ten fragment kodu **wysyła zapytanie** do API OpenAI i **przetwarza odpowiedź**, aby uzyskać gotowy tekst.\n",
        "\n",
        "Z racji tego, ze wysylane zapytanie posiada przekierowany URL na localhost. żądanie przechodzi przez ollame.\n",
        "\n",
        "---\n",
        "\n",
        "### 📝 Tworzenie zapytania:"
      ]
    },
    {
      "cell_type": "code",
      "execution_count": 30,
      "metadata": {
        "execution": {
          "iopub.execute_input": "2024-08-31T16:39:48.416923Z",
          "iopub.status.busy": "2024-08-31T16:39:48.415803Z",
          "iopub.status.idle": "2024-08-31T16:39:55.508182Z",
          "shell.execute_reply": "2024-08-31T16:39:55.507114Z",
          "shell.execute_reply.started": "2024-08-31T16:39:48.416869Z"
        },
        "id": "AHBz0jsIQDKU",
        "trusted": true
      },
      "outputs": [],
      "source": [
        "prompt = \"Stwórz przekonujący artykuł o zmianach klimatu na 750 słów dla popularnego czasopisma naukowego.\""
      ]
    },
    {
      "cell_type": "code",
      "execution_count": 31,
      "metadata": {
        "id": "74vei9AXg58w"
      },
      "outputs": [],
      "source": [
        "response = client.chat.completions.create(\n",
        "        model = CFG.model,\n",
        "        messages=[\n",
        "            {\"role\": \"system\", \"content\": \"You are a helpful assistant that writes essays.\"},\n",
        "            {\"role\": \"user\", \"content\": prompt}\n",
        "        ],\n",
        "        max_tokens = CFG.num_tokens,\n",
        "        n=1, stop=None,\n",
        "        temperature = CFG.temperature,\n",
        "        \n",
        "    )\n",
        "\n",
        "essay = response.choices[0].message.content.strip()"
      ]
    },
    {
      "cell_type": "markdown",
      "metadata": {},
      "source": [
        "**Model językowy**: `model = CFG.model` Używa modelu zdefiniowanego w CFG.model.\n",
        "\n",
        "**Kontekst rozmowy**:\n",
        "* *system*: Ustalanie roli asystenta (pisanie esejów).\n",
        "* *user*: Przekazanie zapytania z prompt.\n",
        "\n",
        "**Długość odpowiedzi**: `max_tokens = CFG.num_tokens` Ograniczona przez CFG.num_tokens.\n",
        "\n",
        "**Liczba odpowiedzi**: `n = 1` Oczekujemy jednej odpowiedzi od modelu.\n",
        "\n",
        "**Kreatywność**: `temperature = CFG.temperature` Sterowana przez CFG.temperature.\n"
      ]
    },
    {
      "cell_type": "code",
      "execution_count": 32,
      "metadata": {
        "colab": {
          "base_uri": "https://localhost:8080/"
        },
        "id": "UhkIugaWiPlq",
        "outputId": "ed8b4846-b684-4ebb-dd92-ebd6f6f70a41"
      },
      "outputs": [
        {
          "name": "stdout",
          "output_type": "stream",
          "text": [
            "**Zmiana Klimatu: Przyszłość naszego Planety**\n",
            "\n",
            "Liderujący nauki i technologia muszą stopniowo się adaptować do zwracających uwagę zmian klimatycznych, które wpływają na nasze społeczeństwa. Zmiana klimatu jest jednym z najcięższych wyzwań, którym stanie się niezbędne w naszym dzisiejszym świecie. W artykule tym dyskutujemy o zmianach klimatycznych i ich wpływie na nasze Ziemię.\n",
            "\n",
            "**Co jest zmiana klimatu?**\n",
            "\n",
            "Zmiana klimatu nazywa się globalnym rozgrzewaniem Ziemi, czyli zwiększonym poziomem temperatury powierzchni Ziemi. To wynik zubożowania atmosfery dwutlenkiem węgla (CO2) i innych gazów cieplarnianych, które absorbuje czynników ognia w atmosferze. Takie gazy cieplarniane powodują zwiększenie emisji ciepła, co prowadzi do rozgrzewania globu.\n",
            "\n",
            "**Przyczyny zmian klimatycznych**\n",
            "\n",
            "Jasne, dlaczego jesteśmy tu, aby dyskutować o tym? Przyczyną zmian klimatycznych są głównie działalność ludzka. Współcześnie jesteśmy w stanie wydobyć i spalować węgiel i paliwo węglowe na tak dużej skale, że przekraczamy poziom emisji CO2, który jest niebezpieczny dla naszego planetarium.\n",
            "\n",
            "**Wpływ zmian klimatycznych**\n",
            "\n",
            "Zmiana klimatu ma ogromne wpływy na nasze społeczeństwa. Zimny cykl lub zima jest coraz bardziej intensywna, czego skutkiem jest szkoda wiodąca w wysokości kilkadziesiąt miliardów dolarów każdego roku.\n",
            "\n",
            "Wpływ zmian klimatycznych dotyczy nie tylko ekonomiczny, ale i społeczny. Wszystko to może spowodować katastrofę społeczną.\n",
            "\n",
            "**Końca świata?**\n",
            "\n",
            "Nie musimy być oczekiwaciele na koniec świata z powodu zmian klimatycznych. Chociaż jesteśmy w przestrzeni, aby zmienić ten sytuację, to jesteśmy w stanie to uczynić.\n",
            "\n",
            "**Krok 1: Zrozumienie**\n",
            "\n",
            "Świedzenie się o zmianach klimatycznych i ich wpływie na nasze społeczeństwa jest pierwszym krokem. To nie jest jednodenne, ale jesteśmy w stanie uzyskać tę informację.\n",
            "\n",
            "**Krok 2: Udział**\n",
            "\n",
            "Wprowadzenie zmian w swojej codziennej obowiązkowej aktywności może ułatwić zdobycie sukcesu. Nie musimy być ekspertami, aby zrobić to. Wszystko co musimy zrobić, to wyznaczyć się wśród innych ludzi i pokazać im, że jesteśmy gotowi.\n",
            "\n",
            "**Krok 3: Aktywność społeczna**\n",
            "\n",
            "Udział w aktywności społecznej może być drugim krokiem. Wybieramy się do aktywnych organizacji, które mają na celu zmianę klimatyczne.\n",
            "\n",
            "**Wnioski**\n",
            "\n",
            "Zmiana klimatu jest sprawą ogromną i trudna, ale to nie jest sprawa, która powinna nas zmusić. Jest to sprawa, o której mówimy w czasie, gdy jesteśmy na spotkaniu z przyjaciółmi.\n",
            "\n",
            "Wszystko to musi się zrobić. Nasza Ziemia jest naszym domem i jest to niezwykle ważne, aby ją chronić.\n"
          ]
        }
      ],
      "source": [
        "print(essay)"
      ]
    },
    {
      "cell_type": "code",
      "execution_count": 33,
      "metadata": {
        "execution": {
          "iopub.execute_input": "2024-08-31T16:39:21.535384Z",
          "iopub.status.busy": "2024-08-31T16:39:21.534907Z",
          "iopub.status.idle": "2024-08-31T16:39:21.543073Z",
          "shell.execute_reply": "2024-08-31T16:39:21.541767Z",
          "shell.execute_reply.started": "2024-08-31T16:39:21.535323Z"
        },
        "id": "Osq14QpAQDKT",
        "trusted": true
      },
      "outputs": [],
      "source": [
        "def generate_essay(prompt):\n",
        "    response = client.chat.completions.create(\n",
        "            model = CFG.model,\n",
        "            messages=[\n",
        "                {\"role\": \"system\", \"content\": \"You are a helpful assistant that writes essays.\"},\n",
        "                {\"role\": \"user\", \"content\": prompt}\n",
        "            ],\n",
        "            max_tokens = CFG.num_tokens,\n",
        "            n=1, stop=None,\n",
        "            temperature = CFG.temperature,\n",
        "        )\n",
        "\n",
        "    essay = response.choices[0].message.content.strip()\n",
        "    return essay"
      ]
    },
    {
      "cell_type": "code",
      "execution_count": 34,
      "metadata": {
        "id": "MK4Hdca7g3B3"
      },
      "outputs": [],
      "source": [
        "essay = generate_essay(prompt)"
      ]
    },
    {
      "cell_type": "code",
      "execution_count": 35,
      "metadata": {
        "colab": {
          "base_uri": "https://localhost:8080/"
        },
        "execution": {
          "iopub.execute_input": "2024-08-31T16:40:32.175131Z",
          "iopub.status.busy": "2024-08-31T16:40:32.174684Z",
          "iopub.status.idle": "2024-08-31T16:40:32.180997Z",
          "shell.execute_reply": "2024-08-31T16:40:32.179623Z",
          "shell.execute_reply.started": "2024-08-31T16:40:32.175087Z"
        },
        "id": "jLBk-UJXQDKV",
        "outputId": "438d9150-e2d5-4305-984a-c661ba0c1489",
        "trusted": true
      },
      "outputs": [
        {
          "name": "stdout",
          "output_type": "stream",
          "text": [
            "**Zmiana klimatu: nierozgrywane groźnie**\n",
            "\n",
            "Liderzy świata wypowiedzieli się w sprawie zmian klimatu, ale co jest prawdą i co to oznacza? W przekonującym artykule dowieszysz się, co znaczą te zmiany i jak mogą wpłynąć na nasze życie.\n",
            "\n",
            "Zmiana klimatu jest jednej z najgroźniejszych zagadnień, które dotknęły naszą planetę. Ostatnie lata towarzyszyły nam coraz bardziej intensywne i częstsie pojawiające się burze, upały i susze. Zmiany klimatu wpływają na przestępstwa związane z nękańiem ziemią, a także na ekosystemy, które są podatne na zmienność gleb i warunków atmosferycznych.\n",
            "\n",
            "Jednym z najbardziej zauważalnych skutków zmian klimatu są przestępstwa związane z nękańiem ziemią. Na przykład, w latach 80., klimat stał się bardziej ciepły i silniej wilgotny, co spowodowało powodzie na całym świecie. Jednym z najbardziej zauważalnych skutków tych powodzi byli skutki dla ludzi w regionie południowej Azji, którzy musieli opuścić swoje domy i poszukać schronienia.\n",
            "\n",
            "Innym skutkiem zmian klimatu jest utrata lasów. Lasze są ogromną siłą ochronnej dla naszej planety. Lasze pomagają w trzymaniu powietrza, wchłaniają spaliny i odgrywają rolę w regulowaniu temperatury. Ale lasy są narażone na zmiany klimatu, które spowodują ich śmierć. To będzie dla naszych przyszłości groźne.\n",
            "\n",
            "Ponadto, zmiana klimatu wpływa na rolnictwo. Ze wzrostem temperatury i poprzestania dostrzeczenia się bardziej intensywnej sucha, a także coraz bardziej częste i intensywne powodziom. To spowodować będzie gorsze plony, które spowodują gospodarczy kryzys.\n",
            "\n",
            "Ostatnio, wśród ludzi zainteresowanie zmianą klimatu jest coraz bardziej zwiększane. Jednym z podstawowych powodów tego jest dostrzeganie się skutków niewykluczanych. Na przykład, pożary lasu, które spowodowały gorsze warunki klimatyczne. Inny powód to wzrost kosztów naftowego paliwa, oraz coraz bardziej intensywne burze.\n",
            "\n",
            "Innym z narzeczeń zmiany klimatu jest nowa technologii. Należą do nich: komory skraplenia wodnego, które pozwolą na wytworzenie energii odnawialnej. Ostatnie lata towarzyszyły nam coraz bardziej intensywne burze i gorsze warunki klimatyczne. To spowodowało wzrost zainteresowania nowymi technologiami, które pomożą zmniejszyć wpływ zmian klimatu.\n",
            "\n",
            "W przyszłości, musimy mieć doświadczenie, że zmiana klimatu będzie bardziej skuteczna w razie nieskoordynowanego podjęcia z tą sprawą. Jednym z narzeczeń jest nowa technologii, które pozwolą na wytworzenie energii odnawialnej.\n",
            "\n",
            "W końcu, musimy mieć doświadczenie, że zmiana klimatu będzie bardziej skuteczna wraz z nieskoordynowanym podjęciem z tą sprawą.\n"
          ]
        }
      ],
      "source": [
        "print(essay)"
      ]
    }
  ],
  "metadata": {
    "colab": {
      "provenance": []
    },
    "kaggle": {
      "accelerator": "none",
      "dataSources": [
        {
          "datasetId": 5601552,
          "sourceId": 9258072,
          "sourceType": "datasetVersion"
        }
      ],
      "dockerImageVersionId": 30761,
      "isGpuEnabled": false,
      "isInternetEnabled": true,
      "language": "python",
      "sourceType": "notebook"
    },
    "kernelspec": {
      "display_name": ".venv",
      "language": "python",
      "name": "python3"
    },
    "language_info": {
      "codemirror_mode": {
        "name": "ipython",
        "version": 3
      },
      "file_extension": ".py",
      "mimetype": "text/x-python",
      "name": "python",
      "nbconvert_exporter": "python",
      "pygments_lexer": "ipython3",
      "version": "3.10.11"
    }
  },
  "nbformat": 4,
  "nbformat_minor": 0
}
