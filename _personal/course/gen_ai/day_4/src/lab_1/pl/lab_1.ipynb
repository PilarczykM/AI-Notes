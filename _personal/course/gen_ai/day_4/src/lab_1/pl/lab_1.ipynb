{
  "cells": [
    {
      "cell_type": "markdown",
      "metadata": {
        "id": "SOCTm2oBjirI"
      },
      "source": [
        "# Setup"
      ]
    },
    {
      "cell_type": "code",
      "execution_count": 1,
      "metadata": {
        "_kg_hide-output": true,
        "execution": {
          "iopub.execute_input": "2024-09-30T09:39:00.167560Z",
          "iopub.status.busy": "2024-09-30T09:39:00.167018Z",
          "iopub.status.idle": "2024-09-30T09:39:27.574115Z",
          "shell.execute_reply": "2024-09-30T09:39:27.572856Z",
          "shell.execute_reply.started": "2024-09-30T09:39:00.167516Z"
        },
        "id": "-HFC6S3Hjh2q",
        "trusted": true
      },
      "outputs": [],
      "source": [
        "# !pip install -qU openai-whisper"
      ]
    },
    {
      "cell_type": "code",
      "execution_count": 2,
      "metadata": {
        "execution": {
          "iopub.execute_input": "2024-09-30T09:39:27.576655Z",
          "iopub.status.busy": "2024-09-30T09:39:27.576292Z",
          "iopub.status.idle": "2024-09-30T09:39:29.433508Z",
          "shell.execute_reply": "2024-09-30T09:39:29.432540Z",
          "shell.execute_reply.started": "2024-09-30T09:39:27.576616Z"
        },
        "id": "W0HoObXejh2u",
        "trusted": true
      },
      "outputs": [],
      "source": [
        "from IPython import display\n",
        "from pathlib import Path"
      ]
    },
    {
      "cell_type": "code",
      "execution_count": 3,
      "metadata": {
        "execution": {
          "iopub.execute_input": "2024-09-30T09:39:29.436156Z",
          "iopub.status.busy": "2024-09-30T09:39:29.435189Z",
          "iopub.status.idle": "2024-09-30T09:39:29.441684Z",
          "shell.execute_reply": "2024-09-30T09:39:29.440698Z",
          "shell.execute_reply.started": "2024-09-30T09:39:29.436109Z"
        },
        "id": "dsmjmBChjh2x",
        "trusted": true
      },
      "outputs": [],
      "source": [
        "class CFG:\n",
        "    audio_file = 'audio_PL.mp3'"
      ]
    },
    {
      "cell_type": "markdown",
      "metadata": {
        "id": "BgrF-6Nwjh2z"
      },
      "source": [
        "# Transkrypcja"
      ]
    },
    {
      "cell_type": "code",
      "execution_count": 4,
      "metadata": {
        "colab": {
          "base_uri": "https://localhost:8080/",
          "height": 75
        },
        "id": "CEuaae0yUe7F",
        "outputId": "405b7100-f8a7-431f-ebcd-4f0ceba7375c"
      },
      "outputs": [],
      "source": [
        "audio = Path(CFG.audio_file)\n",
        "if audio.exists():\n",
        "    display.Audio(CFG.audio_file)\n",
        "else:\n",
        "    print(\"Audio file not found\")"
      ]
    },
    {
      "cell_type": "code",
      "execution_count": 5,
      "metadata": {
        "id": "TS4W3qbKUC49"
      },
      "outputs": [
        {
          "name": "stdout",
          "output_type": "stream",
          "text": [
            "Detecting language using up to the first 30 seconds. Use `--language` to specify the language\n",
            "Detected language: Polish\n",
            "[00:00.000 --> 00:07.000]  Przed Komisją Weryfikacyjną staje porusznik Franciszek Małewer,\n",
            "[00:07.000 --> 00:12.000]  dla 37 żonaty jedno-dziesko.\n",
            "[00:12.000 --> 00:18.000]  Studia prawnicze w Krakowie ukończone w 1978 roku z wyróżnieniem.\n",
            "[00:18.000 --> 00:22.000]  W tym samym roku podejmuje pracę w Resorcie.\n",
            "[00:22.000 --> 00:26.000]  W roku 80 tym rzeni się z mileną kurzepą surką\n",
            "[00:26.000 --> 00:30.000]  ówczesnego wicie ministra spraw wewnętrznych.\n",
            "[00:30.000 --> 00:33.000]  Na tych miastowy awans w grudniu 80 roku,\n",
            "[00:33.000 --> 00:38.000]  31 nagan, 18 pochwał,\n",
            "[00:38.000 --> 00:42.000]  dwie na wniosek ministra spraw wewnętrznych\n",
            "[00:42.000 --> 00:44.000]  rosyjskiej rebu biegifedrazyjnej.\n",
            "[00:44.000 --> 00:48.000]  Trzykrotnie, co w niente dyscyplinarny zwolnienie,\n",
            "[00:48.000 --> 00:51.000]  ze służby szczegółów brak.\n",
            "[00:51.000 --> 00:53.000]  Panie Małrer,\n",
            "[00:53.000 --> 00:57.000]  co pan zrobił w sprawie kapitana nowakowskiego,\n",
            "[00:57.000 --> 01:02.000]  uśłującego 80 roku założyć wolny związki zawodowe w Resorcie?\n",
            "[01:02.000 --> 01:05.000]  Odstrzyliłem mu web,\n",
            "[01:05.000 --> 01:08.000]  z mał zaraz 7,8 mm.\n",
            "[01:08.000 --> 01:11.000]  Może pan to wyjaśnić?\n",
            "[01:11.000 --> 01:15.000]  Nowakowski zabił żony i uprowadził córkę na dach,\n",
            "[01:15.000 --> 01:19.000]  grorzec, zrzuci, jeśli nie spamięjają żonę.\n",
            "[01:19.000 --> 01:22.000]  Jakim przyjętym?\n",
            "[01:22.000 --> 01:28.000]  Rejestracji wolnych związków zawodowych i 2,200 podwyżki.\n",
            "[01:28.000 --> 01:31.000]  No i co?\n",
            "[01:31.000 --> 01:36.000]  I przedłem na komin elektrocie połowymi i strzeliłem mu web,\n",
            "[01:36.000 --> 01:39.000]  co ty jeszcze wyjaśnić?\n",
            "[01:39.000 --> 01:42.000]  A, bydali panu za to medal.\n",
            "[01:42.000 --> 01:45.000]  Kąś się spodobało, że jednym strzałem\n",
            "[01:45.000 --> 01:48.000]  z 220 metrów trafię faceta w skronu,\n",
            "[01:48.000 --> 01:50.000]  to mnie awansowali.\n",
            "[01:50.000 --> 01:53.000]  I zaczęli zapraszać na apalowanie.\n",
            "[01:53.000 --> 01:57.000]  Czy znał pan wcześniej kapitana nowakowskiego?\n",
            "[01:59.000 --> 02:02.000]  Wstydywaliśmy razem prawo witek.\n",
            "[02:03.000 --> 02:06.000]  Kapitanną nowakowski był moim...\n",
            "[02:06.000 --> 02:09.000]  kolego moim dyb.\n"
          ]
        }
      ],
      "source": [
        "import whisper\n",
        "\n",
        "model = whisper.load_model(\"base\")\n",
        "transcript = model.transcribe(str(audio), fp16=False, verbose=True)[\"text\"].strip()"
      ]
    },
    {
      "cell_type": "code",
      "execution_count": 6,
      "metadata": {
        "colab": {
          "base_uri": "https://localhost:8080/"
        },
        "id": "1GNI8v4LUZE3",
        "outputId": "43bd96e9-5469-4ff3-bc42-25571f6052f5"
      },
      "outputs": [
        {
          "data": {
            "text/plain": [
              "'Przed Komisją Weryfikacyjną staje porusznik Franciszek Małewer, dla 37 żonaty jedno-dziesko. Studia prawnicze w Krakowie ukończone w 1978 roku z wyróżnieniem. W tym samym roku podejmuje pracę w Resorcie. W roku 80 tym rzeni się z mileną kurzepą surką ówczesnego wicie ministra spraw wewnętrznych. Na tych miastowy awans w grudniu 80 roku, 31 nagan, 18 pochwał, dwie na wniosek ministra spraw wewnętrznych rosyjskiej rebu biegifedrazyjnej. Trzykrotnie, co w niente dyscyplinarny zwolnienie, ze służby szczegółów brak. Panie Małrer, co pan zrobił w sprawie kapitana nowakowskiego, uśłującego 80 roku założyć wolny związki zawodowe w Resorcie? Odstrzyliłem mu web, z mał zaraz 7,8 mm. Może pan to wyjaśnić? Nowakowski zabił żony i uprowadził córkę na dach, grorzec, zrzuci, jeśli nie spamięjają żonę. Jakim przyjętym? Rejestracji wolnych związków zawodowych i 2,200 podwyżki. No i co? I przedłem na komin elektrocie połowymi i strzeliłem mu web, co ty jeszcze wyjaśnić? A, bydali panu za to medal. Kąś się spodobało, że jednym strzałem z 220 metrów trafię faceta w skronu, to mnie awansowali. I zaczęli zapraszać na apalowanie. Czy znał pan wcześniej kapitana nowakowskiego? Wstydywaliśmy razem prawo witek. Kapitanną nowakowski był moim... kolego moim dyb.'"
            ]
          },
          "execution_count": 6,
          "metadata": {},
          "output_type": "execute_result"
        }
      ],
      "source": [
        "transcript"
      ]
    }
  ],
  "metadata": {
    "colab": {
      "provenance": []
    },
    "kaggle": {
      "accelerator": "none",
      "dataSources": [
        {
          "sourceId": 198769656,
          "sourceType": "kernelVersion"
        }
      ],
      "dockerImageVersionId": 30775,
      "isGpuEnabled": false,
      "isInternetEnabled": true,
      "language": "python",
      "sourceType": "notebook"
    },
    "kernelspec": {
      "display_name": ".venv",
      "language": "python",
      "name": "python3"
    },
    "language_info": {
      "codemirror_mode": {
        "name": "ipython",
        "version": 3
      },
      "file_extension": ".py",
      "mimetype": "text/x-python",
      "name": "python",
      "nbconvert_exporter": "python",
      "pygments_lexer": "ipython3",
      "version": "3.10.11"
    }
  },
  "nbformat": 4,
  "nbformat_minor": 0
}
