{
  "cells": [
    {
      "cell_type": "markdown",
      "metadata": {
        "id": "TE0rNCalzi3B"
      },
      "source": [
        "# Setup"
      ]
    },
    {
      "cell_type": "code",
      "execution_count": null,
      "metadata": {
        "id": "CZT6IWnYzPiM"
      },
      "outputs": [],
      "source": [
        "# TERMINAL :\n",
        "\n",
        "# curl -fsSL https://ollama.com/install.sh | PATH=\"/sbin:/usr/sbin:$PATH\" sh\n",
        "\n",
        "# ollama serve &\n",
        "\n",
        "# ollama pull llama3.2-vision:11b"
      ]
    },
    {
      "cell_type": "markdown",
      "metadata": {
        "id": "E5JDsX310TXS"
      },
      "source": [
        "asd"
      ]
    },
    {
      "cell_type": "code",
      "execution_count": null,
      "metadata": {
        "id": "yuOyPZLT15P6"
      },
      "outputs": [],
      "source": [
        "!pip install -qU requests"
      ]
    },
    {
      "cell_type": "code",
      "execution_count": null,
      "metadata": {
        "id": "FQzRy2312A9Z"
      },
      "outputs": [],
      "source": [
        "import base64\n",
        "import requests"
      ]
    },
    {
      "cell_type": "markdown",
      "metadata": {
        "id": "vEggoHIe2GpR"
      },
      "source": [
        "# Functions"
      ]
    },
    {
      "cell_type": "code",
      "execution_count": 3,
      "metadata": {
        "id": "86xday0n2Hhf"
      },
      "outputs": [],
      "source": [
        "def encode_image_to_base64(image_path):\n",
        "    \"\"\"Convert an image file to a base64 encoded string.\"\"\"\n",
        "    with open(image_path, \"rb\") as image_file:\n",
        "        return base64.b64encode(image_file.read()).decode('utf-8')"
      ]
    },
    {
      "cell_type": "code",
      "execution_count": null,
      "metadata": {
        "id": "bNKC5-MK2DSG"
      },
      "outputs": [],
      "source": [
        "SYSTEM_PROMPT = \"\"\"Act as an OCR assistant. Analyze the provided image and:\n",
        "1. Recognize all visible text in the image as accurately as possible.\n",
        "2. Maintain the original structure and formatting of the text.\n",
        "3. If any words or phrases are unclear, indicate this with [unclear] in your transcription.\n",
        "Provide only the transcription without any additional comments.\"\"\""
      ]
    },
    {
      "cell_type": "code",
      "execution_count": null,
      "metadata": {
        "id": "RZ5JC6OR2Jo-"
      },
      "outputs": [],
      "source": [
        "def perform_ocr(image_path):\n",
        "    \"\"\"Perform OCR on the given image using Llama 3.2-Vision.\"\"\"\n",
        "    base64_image = encode_image_to_base64(image_path)\n",
        "    try:\n",
        "        response = requests.post(\n",
        "            \"http://localhost:11434/api/chat\",\n",
        "            json={\n",
        "                \"model\": \"llama3.2-vision:11b\",\n",
        "                \"messages\": [\n",
        "                    {\n",
        "                        \"role\": \"user\",\n",
        "                        \"content\": SYSTEM_PROMPT,\n",
        "                        \"images\": [base64_image],\n",
        "                    },\n",
        "                ],\n",
        "                \"stream\": False,\n",
        "            },\n",
        "        )\n",
        "        response.raise_for_status()  # raises exception for non 200 status\n",
        "        try:\n",
        "            # attempt to load a json response\n",
        "            return response.json().get(\"message\", {}).get(\"content\", \"\")\n",
        "        except requests.exceptions.JSONDecodeError:\n",
        "            # if json response fails print the response\n",
        "            print(\"Error: Response not in JSON format. Raw response:\", response.text)\n",
        "            return None\n",
        "    except requests.exceptions.RequestException as e:\n",
        "        print(f\"Error: Request failed: {e}\")\n",
        "        return None"
      ]
    },
    {
      "cell_type": "markdown",
      "metadata": {
        "id": "2wkP4RhR2ClM"
      },
      "source": [
        "# Model"
      ]
    },
    {
      "cell_type": "code",
      "execution_count": 12,
      "metadata": {
        "colab": {
          "base_uri": "https://localhost:8080/"
        },
        "id": "q6v3x6tp2VaA",
        "outputId": "d5ee055a-4d5b-41a4-a162-aa01cc08959b"
      },
      "outputs": [
        {
          "name": "stdout",
          "output_type": "stream",
          "text": [
            "OCR Recognition Result:\n",
            "Using Python to Encode Strings:\n",
            "\n",
            "In the image, we can see a code snippet that demonstrates how to use Python to encode strings using the base64 module.\n",
            "\n",
            "**Code Snippet:**\n",
            "\n",
            "```python\n",
            "import base64\n",
            "\n",
            "sample_string = \"GeeksforGeeks is the best\"\n",
            "sample_bytes = sample_string.encode(\"ascii\")\n",
            "\n",
            "base64_bytes = base64.b64encode(sample_bytes)\n",
            "base64_string = base64_bytes.decode(\"ascii\")\n",
            "\n",
            "print(f\"Encoded string: {base64_string}\")\n",
            "```\n",
            "\n",
            "**Explanation:**\n",
            "\n",
            "This code snippet takes a string as input and encodes it using the base64 encoding scheme. The encoded string is then printed to the console.\n",
            "\n",
            "**Key Points:**\n",
            "\n",
            "*   The `base64` module is imported.\n",
            "*   A sample string is defined and encoded into bytes using the `encode()` method.\n",
            "*   The `b64encode()` function from the `base64` module is used to encode the bytes.\n",
            "*   The resulting base64-encoded bytes are decoded back into a string using the `decode()` method.\n",
            "*   The encoded string is printed to the console.\n",
            "\n",
            "**Note:**\n",
            "\n",
            "The code snippet assumes that the input string only contains ASCII characters. If the input string contains non-ASCII characters, additional encoding and decoding steps may be required.\n"
          ]
        }
      ],
      "source": [
        "image_path = \"/content/codeshot.png\"\n",
        "\n",
        "result = perform_ocr(image_path)\n",
        "\n",
        "print(\"OCR Recognition Result:\")\n",
        "print(result)"
      ]
    }
  ],
  "metadata": {
    "colab": {
      "provenance": []
    },
    "kernelspec": {
      "display_name": "Python 3",
      "name": "python3"
    },
    "language_info": {
      "name": "python"
    }
  },
  "nbformat": 4,
  "nbformat_minor": 0
}
