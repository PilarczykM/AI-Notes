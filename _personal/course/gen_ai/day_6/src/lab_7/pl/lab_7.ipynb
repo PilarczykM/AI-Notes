{
  "cells": [
    {
      "cell_type": "markdown",
      "metadata": {
        "id": "TnEQl1PGpJME"
      },
      "source": [
        "# Setup"
      ]
    },
    {
      "cell_type": "code",
      "execution_count": 1,
      "metadata": {
        "_kg_hide-output": true,
        "id": "qGXzd-oqowyr",
        "trusted": true
      },
      "outputs": [],
      "source": [
        "!pip install -q anthropic IPython pdf2image PyMuPDF"
      ]
    },
    {
      "cell_type": "markdown",
      "metadata": {
        "id": "Hu-xmZHTowys"
      },
      "source": [
        "Ten kod instaluje cztery pakiety Pythona:\n",
        "\n",
        "1. **anthropic** - biblioteka kliencka umożliwiająca integrację z modelami językowymi Claude od firmy Anthropic. Pozwala na komunikację z API Anthropic, wysyłanie zapytań do modeli Claude i odbieranie odpowiedzi.\n",
        "\n",
        "2. **IPython** - rozszerzony, interaktywny interpreter Pythona oferujący wzbogacone środowisko programistyczne z funkcjami takimi jak podświetlanie składni, uzupełnianie kodu i wyświetlanie dokumentacji. Jest kluczowym komponentem Jupyter Notebook.\n",
        "\n",
        "3. **pdf2image** - narzędzie do konwertowania plików PDF na obrazy. Umożliwia przekształcanie stron PDF na formaty obrazów takie jak PNG, JPEG itp., co jest przydatne przy analizie wizualnej dokumentów lub przetwarzaniu zawartości PDF.\n",
        "\n",
        "4. **PyMuPDF** - zaawansowana biblioteka do pracy z dokumentami PDF (a także XPS, EPUB i innymi). Oferuje szeroki zakres funkcji do odczytywania, modyfikowania i analizowania plików PDF, włączając w to ekstrakcję tekstu, obrazów, manipulację stronami i wiele innych.\n"
      ]
    },
    {
      "cell_type": "code",
      "execution_count": null,
      "metadata": {
        "id": "ibAYpKUpowys",
        "trusted": true
      },
      "outputs": [],
      "source": [
        "import base64\n",
        "from anthropic import Anthropic\n",
        "from PIL import Image\n",
        "import io\n",
        "import fitz # PyMuPDF\n",
        "from tqdm import tqdm\n",
        "from google.colab import userdata"
      ]
    },
    {
      "cell_type": "markdown",
      "metadata": {
        "id": "ov-aeyXXowyt"
      },
      "source": [
        "`import base64` - importuje moduł do kodowania i dekodowania danych w formacie Base64, często używanym do przekształcania danych binarnych (jak obrazy) na tekst, który można bezpiecznie przesyłać przez Internet.\n",
        "\n",
        "`from anthropic import Anthropic` - importuje klasę Anthropic z pakietu anthropic, która służy do komunikacji z API Anthropic, umożliwiając dostęp do modeli językowych Claude.\n",
        "\n",
        "`from PIL import Image` - importuje klasę Image z biblioteki PIL (Python Imaging Library, znana także jako Pillow), która oferuje zaawansowane funkcje do przetwarzania obrazów.\n",
        "\n",
        "`import io` - importuje moduł io, który dostarcza narzędzia do obsługi strumieni danych (wejścia/wyjścia), szczególnie przydatny przy konwersji między różnymi formatami danych.\n",
        "\n",
        "`import fitz` - importuje bibliotekę fitz, która jest częścią pakietu PyMuPDF, służącą do manipulacji dokumentami PDF.\n",
        "\n",
        "`import re` - importuje moduł do pracy z wyrażeniami regularnymi, co umożliwia zaawansowane wyszukiwanie i manipulację tekstem.\n",
        "\n",
        "`from tqdm import tqdm` - importuje funkcję tqdm, która tworzy paski postępu w terminalu lub notatniku, co jest przydatne przy monitorowaniu długotrwałych operacji."
      ]
    },
    {
      "cell_type": "code",
      "execution_count": 3,
      "metadata": {
        "id": "zN4qxQSvowyt",
        "trusted": true
      },
      "outputs": [],
      "source": [
        "class CFG:\n",
        "    model = \"claude-3-opus-20240229\"\n",
        "    max_tokens = 2048\n",
        "    deck_path = \"/content/twilio_q4_2023.pdf\""
      ]
    },
    {
      "cell_type": "code",
      "execution_count": 4,
      "metadata": {
        "id": "qhbPYwJ6FxX3"
      },
      "outputs": [],
      "source": [
        "client = Anthropic(api_key = userdata.get('claude'))"
      ]
    },
    {
      "cell_type": "markdown",
      "metadata": {
        "id": "M8AFK48sowyt"
      },
      "source": [
        "# Funkcje"
      ]
    },
    {
      "cell_type": "code",
      "execution_count": 5,
      "metadata": {
        "id": "WQk_q4Rqowyt",
        "trusted": true
      },
      "outputs": [],
      "source": [
        "def get_completion(messages):\n",
        "\n",
        "    response = client.messages.create(\n",
        "        model = CFG.model,\n",
        "        max_tokens = CFG.max_tokens,\n",
        "        temperature=0,\n",
        "        messages=messages\n",
        "    )\n",
        "\n",
        "    return response.content[0].text"
      ]
    },
    {
      "cell_type": "code",
      "execution_count": null,
      "metadata": {
        "id": "C5Zzq_9kowyu",
        "trusted": true
      },
      "outputs": [],
      "source": [
        "def pdf_to_base64_pngs(pdf_path, pages_to_convert=10, max_size=(1024, 1024)):\n",
        "    doc = fitz.open(pdf_path)\n",
        "    base64_encoded_pngs = []\n",
        "\n",
        "    for page_num in range(min(pages_to_convert, doc.page_count)):\n",
        "        page = doc.load_page(page_num)\n",
        "        pix = page.get_pixmap(matrix=fitz.Matrix(300 / 72, 300 / 72))\n",
        "        \n",
        "        # Konwersja pixmapy do obrazu PIL bez zapisu na dysk\n",
        "        img = Image.frombytes(\"RGB\", [pix.width, pix.height], pix.samples)\n",
        "        \n",
        "        # Skalowanie, jeśli obraz przekracza maksymalny rozmiar\n",
        "        if img.size[0] > max_size[0] or img.size[1] > max_size[1]:\n",
        "            img.thumbnail(max_size, Image.Resampling.LANCZOS)\n",
        "        \n",
        "        # Konwersja obrazu do Base64\n",
        "        image_data = io.BytesIO()\n",
        "        img.save(image_data, format=\"PNG\", optimize=True)\n",
        "        image_data.seek(0)\n",
        "        base64_encoded = base64.b64encode(image_data.getvalue()).decode(\"utf-8\")\n",
        "        base64_encoded_pngs.append(base64_encoded)\n",
        "    \n",
        "    doc.close()\n",
        "    return base64_encoded_pngs"
      ]
    },
    {
      "cell_type": "markdown",
      "metadata": {
        "id": "wabz-giJowyu"
      },
      "source": [
        "**Opis funkcji `pdf_to_base64_pngs`**\n",
        "\n",
        "**Zadanie funkcji**  \n",
        "Funkcja konwertuje pierwsze `pages_to_convert` stron PDF na obrazy PNG i zwraca je w formacie Base64. Wszystkie operacje odbywają się w pamięci.\n",
        "\n",
        "**Działanie funkcji**  \n",
        "\n",
        "1. **Otwiera plik PDF** za pomocą `PyMuPDF`.  \n",
        "2. **Iteruje przez strony** (maksymalnie `pages_to_convert`).  \n",
        "3. **Renderuje stronę jako obraz** w wysokiej rozdzielczości (300 DPI).  \n",
        "4. **Konwertuje `pixmap` na obraz PIL**, bez zapisywania na dysk.  \n",
        "5. **Skaluje obraz**, jeśli przekracza `max_size` (domyślnie `1024x1024`).  \n",
        "6. **Konwertuje obraz na Base64**, zapisując go najpierw w buforze pamięci (`io.BytesIO`).  \n",
        "7. **Zamyka plik PDF** i zwraca listę Base64 zakodowanych obrazów.  "
      ]
    },
    {
      "cell_type": "code",
      "execution_count": null,
      "metadata": {
        "id": "KiNoXvz_F5Vb"
      },
      "outputs": [],
      "source": [
        "def build_previous_slides_prompt(previous_slide_narratives):\n",
        "    prompt = '\\n'.join([f\"<slide_narration id={index+1}>\\n{narrative}\\n</slide_narration>\" for index, narrative in enumerate(previous_slide_narratives)])\n",
        "    return prompt"
      ]
    },
    {
      "cell_type": "code",
      "execution_count": null,
      "metadata": {
        "id": "mXfAZu7CF7JN"
      },
      "outputs": [],
      "source": [
        "def build_slides_narration_prompt(previous_slide_narratives):\n",
        "    if len(previous_slide_narratives) == 0:\n",
        "        prompt = \"\"\"You are the Twilio CFO, narrating your Q4 2023 earnings presentation.\n",
        "                You are currently on slide 1, shown in the image.\n",
        "                Please narrate this page from Twilio's Q4 2023 Earnings Presentation as if you were the presenter.\n",
        "                Do not talk about any things, especially acronyms, if you are not exactly sure you know what they mean.\n",
        "                Do not discuss anything not explicitly seen on this slide as there are more slides \\\n",
        "                to narrate later that will likely cover that material.\n",
        "                Do not leave any details un-narrated as some of your viewers are vision-impaired,\\\n",
        "                so if you don't narrate every number they won't know the number. \"\"\"\n",
        "    else:\n",
        "        prompt = f\"\"\"You are the Twilio CFO, narrating your Q4 2023 earnings presentation. So far, here is your narration from previous slides:\n",
        "        <previous_slide_narrations>\n",
        "        {build_previous_slides_prompt(previous_slide_narratives)}\n",
        "        </previous_slide_narrations>\n",
        "        You are currently on slide {len(previous_slide_narratives) + 1}, shown in the image.\n",
        "        Please narrate this page from Twilio's Q4 2023 Earnings Presentation as if you were the presenter,\\\n",
        "        accounting for what you have already said on previous slides. Do not talk about any things, especially acronyms,\n",
        "        if you are not exactly sure you know what they mean. Do not discuss anything not explicitly seen on this slide \\\n",
        "        as there are more slides to narrate later that will likely cover that material.\\\n",
        "        Do not leave any details un-narrated as some of your viewers are vision-impaired,\\\n",
        "        so if you don't narrate every number they won't know the number.\n",
        "        Use excruciating detail. \"\"\"\n",
        "\n",
        "    return prompt"
      ]
    },
    {
      "cell_type": "markdown",
      "metadata": {
        "id": "R3AfdPWnowyv"
      },
      "source": [
        "# Narracja krok po kroku"
      ]
    },
    {
      "cell_type": "code",
      "execution_count": null,
      "metadata": {
        "id": "Z8zH5vodHz1o"
      },
      "outputs": [],
      "source": [
        "encoded_pngs = pdf_to_base64_pngs(CFG.deck_path)"
      ]
    },
    {
      "cell_type": "code",
      "execution_count": null,
      "metadata": {
        "colab": {
          "base_uri": "https://localhost:8080/"
        },
        "id": "rUU8-nnDH0pv",
        "outputId": "5a62388a-038d-4fe5-93bc-712d19ea4e4b"
      },
      "outputs": [
        {
          "name": "stdout",
          "output_type": "stream",
          "text": [
            "According to the Total Company Results Highlights table, Twilio's Y/Y Revenue Growth for fiscal year 2023 was 9%.\n"
          ]
        }
      ],
      "source": [
        "content = [\n",
        "    {\n",
        "        \"type\": \"image\",\n",
        "        \"source\": {\"type\": \"base64\", \"media_type\": \"image/png\", \"data\": encp},\n",
        "    }\n",
        "    for encp in encoded_pngs\n",
        "]\n",
        "\n",
        "question = \"What was Twilio y/y revenue growth for fiscal year 2023?\"\n",
        "content.append({\"type\": \"text\", \"text\": question})\n",
        "\n",
        "messages = [{\"role\": \"user\", \"content\": content}]\n",
        "\n",
        "print(get_completion(messages))"
      ]
    },
    {
      "cell_type": "code",
      "execution_count": 11,
      "metadata": {
        "colab": {
          "base_uri": "https://localhost:8080/"
        },
        "id": "vu6qrIRMowyv",
        "outputId": "070187f2-7e0f-4e8b-f586-cab8282a11af",
        "trusted": true
      },
      "outputs": [
        {
          "name": "stderr",
          "output_type": "stream",
          "text": [
            "10it [03:38, 21.87s/it]\n"
          ]
        }
      ],
      "source": [
        "previous_slide_narratives = []\n",
        "\n",
        "for i, encoded_png in tqdm(enumerate(encoded_pngs)):\n",
        "    messages = [\n",
        "        {\n",
        "            \"role\": 'user',\n",
        "            \"content\": [\n",
        "            {\"type\": \"image\", \"source\": {\"type\": \"base64\", \"media_type\": \"image/png\", \"data\": encoded_png}},\n",
        "            {\"type\": \"text\", \"text\": build_slides_narration_prompt(previous_slide_narratives)}\n",
        "        ]\n",
        "        }\n",
        "    ]\n",
        "    completion = get_completion(messages)\n",
        "\n",
        "    previous_slide_narratives.append(completion)\n",
        "\n",
        "slide_narration = build_previous_slides_prompt(previous_slide_narratives)"
      ]
    },
    {
      "cell_type": "code",
      "execution_count": null,
      "metadata": {
        "colab": {
          "base_uri": "https://localhost:8080/"
        },
        "id": "dsqN1Ymuowyv",
        "outputId": "6dbbef9e-977b-4671-99ae-9a4118313ad3",
        "trusted": true
      },
      "outputs": [
        {
          "name": "stdout",
          "output_type": "stream",
          "text": [
            "\n",
            "----------Question 1----------\n",
            "To calculate the percentage of Q4 total revenue that the Segment business line represented, I'll find the Q4 2023 revenue numbers for Segment and Total revenue.\n",
            "\n",
            "From slide 6:\n",
            "\"In Q4 2023, Segment Revenue grew to $75 million dollars.\"\n",
            "\n",
            "From slide 3:\n",
            "\"Total Revenue is $1,190 million for Q4 2023.\"\n",
            "\n",
            "Percentage calculation:\n",
            "Segment Revenue / Total Revenue * 100\n",
            "= $75 million / $1,190 million * 100\n",
            "= 0.0630 * 100\n",
            "= 6.30%\n",
            "\n",
            "Therefore, in Q4 2023, Twilio's Segment business line revenue of $75 million represented approximately 6.30% of the company's total revenue of $1,190 million.\n",
            "\n",
            "----------Question 2----------\n",
            "Based on the information provided in the earnings call transcript, the rate of growth of Twilio's quarterly revenue has been decreasing over the past two years from Q4 2021 to Q4 2023.\n",
            "\n",
            "----------Question 3----------\n",
            "To determine the acquisition revenue for the year ended December 31, 2023, I'll subtract the organic revenue from the total revenue for fiscal year 2023.\n",
            "\n",
            "From slide 4:\n",
            "- Total Revenue for fiscal year 2023 was $4,154 million\n",
            "- Organic Revenue for fiscal year 2023 was $4,146 million\n",
            "\n",
            "Acquisition revenue = Total revenue - Organic revenue\n",
            "                    = $4,154 million - $4,146 million\n",
            "                    = $8 million\n",
            "\n",
            "Therefore, the acquisition revenue for the year ended December 31, 2023 was $8 million.\n"
          ]
        }
      ],
      "source": [
        "questions = [\n",
        "    \"What percentage of q4 total revenue was the Segment business line?\",\n",
        "    \"Has the rate of growth of quarterly revenue been increasing or decreasing? Give just an answer.\",\n",
        "    \"What was acquisition revenue for the year ended december 31, 2023 (including negative revenues)?\",\n",
        "]\n",
        "\n",
        "\n",
        "for index, question in enumerate(questions):\n",
        "    prompt = f\"\"\"You are an expert financial analyst analyzing a transcript of Twilio's earnings call.\n",
        "\n",
        "            Here is the transcript:\n",
        "\n",
        "            <transcript>\n",
        "\n",
        "            {slide_narration}\n",
        "\n",
        "            </transcript>\n",
        "\n",
        "\n",
        "\n",
        "            Please answer the following question:\n",
        "\n",
        "            <question>\n",
        "\n",
        "            {question}\n",
        "\n",
        "            </question>\"\"\"\n",
        "\n",
        "    messages = [{\"role\": \"user\", \"content\": [{\"type\": \"text\", \"text\": prompt}]}]\n",
        "\n",
        "    print(f\"\\n----------Question {index + 1}----------\")\n",
        "    print(get_completion(messages))"
      ]
    }
  ],
  "metadata": {
    "colab": {
      "collapsed_sections": [
        "TnEQl1PGpJME",
        "M8AFK48sowyt"
      ],
      "provenance": []
    },
    "kaggle": {
      "accelerator": "none",
      "dataSources": [
        {
          "datasetId": 5926217,
          "sourceId": 9693213,
          "sourceType": "datasetVersion"
        }
      ],
      "dockerImageVersionId": 30786,
      "isGpuEnabled": false,
      "isInternetEnabled": true,
      "language": "python",
      "sourceType": "notebook"
    },
    "kernelspec": {
      "display_name": "Python 3",
      "language": "python",
      "name": "python3"
    },
    "language_info": {
      "codemirror_mode": {
        "name": "ipython",
        "version": 3
      },
      "file_extension": ".py",
      "mimetype": "text/x-python",
      "name": "python",
      "nbconvert_exporter": "python",
      "pygments_lexer": "ipython3",
      "version": "3.10.14"
    }
  },
  "nbformat": 4,
  "nbformat_minor": 0
}
