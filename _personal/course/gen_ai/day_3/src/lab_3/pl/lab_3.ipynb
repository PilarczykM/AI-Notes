{
  "cells": [
    {
      "cell_type": "markdown",
      "source": [
        "# Setup"
      ],
      "metadata": {
        "id": "-FSWW7s1i9m4"
      },
      "id": "-FSWW7s1i9m4"
    },
    {
      "cell_type": "code",
      "execution_count": null,
      "id": "4cb0fb3e",
      "metadata": {
        "_cell_guid": "b1076dfc-b9ad-4769-8c92-a6c4dae69d19",
        "_kg_hide-output": true,
        "_uuid": "8f2839f25d086af736a60e9eeb907d3b93b6e0e5",
        "execution": {
          "iopub.execute_input": "2024-10-11T14:19:00.149234Z",
          "iopub.status.busy": "2024-10-11T14:19:00.148826Z",
          "iopub.status.idle": "2024-10-11T14:19:30.052582Z",
          "shell.execute_reply": "2024-10-11T14:19:30.051451Z"
        },
        "papermill": {
          "duration": 29.911747,
          "end_time": "2024-10-11T14:19:30.055134",
          "exception": false,
          "start_time": "2024-10-11T14:19:00.143387",
          "status": "completed"
        },
        "tags": [],
        "id": "4cb0fb3e"
      },
      "outputs": [],
      "source": [
        "!pip install -qU openai"
      ]
    },
    {
      "cell_type": "code",
      "execution_count": null,
      "id": "cfaa079e",
      "metadata": {
        "execution": {
          "iopub.execute_input": "2024-10-11T14:19:30.076543Z",
          "iopub.status.busy": "2024-10-11T14:19:30.075840Z",
          "iopub.status.idle": "2024-10-11T14:19:31.071888Z",
          "shell.execute_reply": "2024-10-11T14:19:31.070933Z"
        },
        "papermill": {
          "duration": 1.004927,
          "end_time": "2024-10-11T14:19:31.074669",
          "exception": false,
          "start_time": "2024-10-11T14:19:30.069742",
          "status": "completed"
        },
        "tags": [],
        "id": "cfaa079e"
      },
      "outputs": [],
      "source": [
        "from openai import OpenAI\n",
        "from google.colab import userdata\n",
        "import time"
      ]
    },
    {
      "cell_type": "code",
      "execution_count": null,
      "id": "e3443a66",
      "metadata": {
        "execution": {
          "iopub.execute_input": "2024-10-11T14:19:31.096033Z",
          "iopub.status.busy": "2024-10-11T14:19:31.095188Z",
          "iopub.status.idle": "2024-10-11T14:19:31.099898Z",
          "shell.execute_reply": "2024-10-11T14:19:31.098980Z"
        },
        "papermill": {
          "duration": 0.013014,
          "end_time": "2024-10-11T14:19:31.102117",
          "exception": false,
          "start_time": "2024-10-11T14:19:31.089103",
          "status": "completed"
        },
        "tags": [],
        "id": "e3443a66"
      },
      "outputs": [],
      "source": [
        "class CFG:\n",
        "    model = 'gpt-4o-mini'"
      ]
    },
    {
      "cell_type": "code",
      "execution_count": null,
      "id": "e65ebfa1",
      "metadata": {
        "execution": {
          "iopub.execute_input": "2024-10-11T14:19:31.113849Z",
          "iopub.status.busy": "2024-10-11T14:19:31.112976Z",
          "iopub.status.idle": "2024-10-11T14:19:31.441747Z",
          "shell.execute_reply": "2024-10-11T14:19:31.440733Z"
        },
        "papermill": {
          "duration": 0.337288,
          "end_time": "2024-10-11T14:19:31.444344",
          "exception": false,
          "start_time": "2024-10-11T14:19:31.107056",
          "status": "completed"
        },
        "tags": [],
        "id": "e65ebfa1"
      },
      "outputs": [],
      "source": [
        "client = OpenAI(api_key = userdata.get('OPENAI_API_KEY'))"
      ]
    },
    {
      "cell_type": "markdown",
      "source": [
        "# Funkcje"
      ],
      "metadata": {
        "id": "T8Zg47l_tah3"
      },
      "id": "T8Zg47l_tah3"
    },
    {
      "cell_type": "code",
      "execution_count": null,
      "id": "9c213621",
      "metadata": {
        "execution": {
          "iopub.execute_input": "2024-10-11T14:19:31.464731Z",
          "iopub.status.busy": "2024-10-11T14:19:31.464367Z",
          "iopub.status.idle": "2024-10-11T14:19:31.470276Z",
          "shell.execute_reply": "2024-10-11T14:19:31.469309Z"
        },
        "papermill": {
          "duration": 0.013872,
          "end_time": "2024-10-11T14:19:31.472373",
          "exception": false,
          "start_time": "2024-10-11T14:19:31.458501",
          "status": "completed"
        },
        "tags": [],
        "id": "9c213621"
      },
      "outputs": [],
      "source": [
        "def generate_essay(prompt, temperature, topp, max_tokens = 75 ):\n",
        "    response = client.chat.completions.create(\n",
        "            model = CFG.model,\n",
        "            messages=[\n",
        "                {\"role\": \"system\", \"content\": \"You are a helpful writing assistant.\"},\n",
        "                {\"role\": \"user\", \"content\": prompt}\n",
        "            ],\n",
        "            top_p = topp, max_tokens = max_tokens,\n",
        "            temperature = temperature, n=1, stop=None,\n",
        "        )\n",
        "\n",
        "    essay = response.choices[0].message.content.strip()\n",
        "    return essay"
      ]
    },
    {
      "cell_type": "markdown",
      "id": "fc9123a3",
      "metadata": {
        "papermill": {
          "duration": 0.004438,
          "end_time": "2024-10-11T14:19:31.481780",
          "exception": false,
          "start_time": "2024-10-11T14:19:31.477342",
          "status": "completed"
        },
        "tags": [],
        "id": "fc9123a3"
      },
      "source": [
        "Funkcja `generate_essay` przyjmuje cztery parametry:\n",
        "- `prompt` - tekst zawierający nasze zapytanie lub instrukcje dla modelu\n",
        "- `temperature` - parametr kontrolujący losowość odpowiedzi\n",
        "- `topp` - parametr określający prawdopodobieństwo wyboru kolejnych tokenów (top-p sampling)\n",
        "- `max_tokens` - maksymalna długość generowanej odpowiedzi, domyślnie ustawiona na 75\n",
        "\n",
        "Wewnątrz funkcji tworzymy zapytanie do API OpenAI przy użyciu wcześniej skonfigurowanego klienta. Metoda `client.chat.completions.create()` przyjmuje szereg parametrów konfiguracyjnych:\n",
        "\n",
        "Model jest pobierany z naszej klasy konfiguracyjnej (`CFG.model`). Wiadomości są przekazywane w formie listy, gdzie każda wiadomość ma określoną rolę i treść. Mamy tu dwie wiadomości:\n",
        "1. Wiadomość systemowa definiująca rolę asystenta (\"You are a helpful writing assistant\")\n",
        "2. Wiadomość użytkownika zawierająca właściwe zapytanie (nasz prompt)\n",
        "\n",
        "Parametry generacji tekstu są precyzyjnie kontrolowane:\n",
        "- `top_p` i `temperature` wpływają na kreatywność i przewidywalność odpowiedzi\n",
        "- `max_tokens` ogranicza długość generowanego tekstu\n",
        "- `n=1` oznacza, że generujemy tylko jedną odpowiedź\n",
        "- `stop=None` oznacza brak specjalnego warunku zatrzymania generacji\n",
        "\n",
        "Po otrzymaniu odpowiedzi z API, wydobywamy z niej właściwy tekst. Używamy `response.choices[0]`, ponieważ poprosiliśmy o jedną odpowiedź (n=1). Metoda `strip()` usuwa niepotrzebne białe znaki z początku i końca tekstu."
      ]
    },
    {
      "cell_type": "markdown",
      "source": [
        "# Test"
      ],
      "metadata": {
        "id": "VGiVeU0yts-8"
      },
      "id": "VGiVeU0yts-8"
    },
    {
      "cell_type": "code",
      "execution_count": null,
      "id": "424bbdd3",
      "metadata": {
        "execution": {
          "iopub.execute_input": "2024-10-11T14:19:31.492921Z",
          "iopub.status.busy": "2024-10-11T14:19:31.492250Z",
          "iopub.status.idle": "2024-10-11T14:19:31.496532Z",
          "shell.execute_reply": "2024-10-11T14:19:31.495637Z"
        },
        "papermill": {
          "duration": 0.012104,
          "end_time": "2024-10-11T14:19:31.498573",
          "exception": false,
          "start_time": "2024-10-11T14:19:31.486469",
          "status": "completed"
        },
        "tags": [],
        "id": "424bbdd3"
      },
      "outputs": [],
      "source": [
        "prompt = \"Ludzie i maszyny funkcjonują obok siebie \""
      ]
    },
    {
      "cell_type": "code",
      "execution_count": null,
      "id": "9e66cd25",
      "metadata": {
        "execution": {
          "iopub.execute_input": "2024-10-11T14:19:31.510485Z",
          "iopub.status.busy": "2024-10-11T14:19:31.509661Z",
          "iopub.status.idle": "2024-10-11T14:19:39.180765Z",
          "shell.execute_reply": "2024-10-11T14:19:39.179755Z"
        },
        "papermill": {
          "duration": 7.67952,
          "end_time": "2024-10-11T14:19:39.183047",
          "exception": false,
          "start_time": "2024-10-11T14:19:31.503527",
          "status": "completed"
        },
        "tags": [],
        "colab": {
          "base_uri": "https://localhost:8080/"
        },
        "id": "9e66cd25",
        "outputId": "75c0536e-08bc-41a5-a934-8671d181e0a8"
      },
      "outputs": [
        {
          "output_type": "stream",
          "name": "stdout",
          "text": [
            "------\n",
            "\n",
            "Temperature: 0, Top_p: 1.0\n",
            "Ludzie i maszyny funkcjonują obok siebie w coraz bardziej złożony sposób, co wpływa na różne aspekty życia codziennego, pracy oraz interakcji społecznych. W wielu dziedzinach, takich jak przemysł, medycyna, transport czy edukacja, technologia odgrywa kluczową rolę, wsp\n",
            "------\n",
            "\n",
            "Temperature: 0.5, Top_p: 1.0\n",
            "Ludzie i maszyny funkcjonują obok siebie w coraz większym zakresie, co wpływa na wiele aspektów naszego życia. W dzisiejszym świecie technologia stała się nieodłącznym elementem codzienności, od prostych urządzeń domowych po zaawansowane systemy automatyzacji w przemyśle. \n",
            "\n",
            "W\n",
            "------\n",
            "\n",
            "Temperature: 1.0, Top_p: 1.0\n",
            "Ludzie i maszyny funkcjonują obok siebie w coraz bardziej złożony sposób, co wpływa na różne aspekty naszego życia. W praktycznie każdej dziedzinie, od przemysłu po codzienne czynności, technologie stają się nieodłącznym elementem naszej egzystencji. Współczesne maszyny\n",
            "------\n",
            "\n",
            "Temperature: 1.5, Top_p: 1.0\n",
            "Temat współpracy między ludźmi a maszynami jest coraz bardziej aktualny w dzisiejszym świecie, w którym technologia odgrywa kluczową rolę w naszym codziennym życiu. W różnych dziedzinach – od przemysłu po usługi – zaawansowane maszyny i technologie sztucznej inteligencji zys\n"
          ]
        }
      ],
      "source": [
        "temperatures = [0, 0.5, 1.0, 1.5]\n",
        "for temp in temperatures:\n",
        "    print('------')\n",
        "    print(f\"\\nTemperature: {temp}, Top_p: 1.0\")\n",
        "    generated_text = generate_essay(prompt,  temperature = temp, topp=1.0)\n",
        "    print(generated_text)"
      ]
    },
    {
      "cell_type": "code",
      "execution_count": null,
      "id": "07b185b9",
      "metadata": {
        "execution": {
          "iopub.execute_input": "2024-10-11T14:19:39.205628Z",
          "iopub.status.busy": "2024-10-11T14:19:39.205275Z",
          "iopub.status.idle": "2024-10-11T14:19:47.621941Z",
          "shell.execute_reply": "2024-10-11T14:19:47.620921Z"
        },
        "papermill": {
          "duration": 8.425391,
          "end_time": "2024-10-11T14:19:47.624407",
          "exception": false,
          "start_time": "2024-10-11T14:19:39.199016",
          "status": "completed"
        },
        "tags": [],
        "id": "07b185b9",
        "colab": {
          "base_uri": "https://localhost:8080/"
        },
        "outputId": "18a60962-a74f-4c1d-bb72-7e5044c93dd6"
      },
      "outputs": [
        {
          "output_type": "stream",
          "name": "stdout",
          "text": [
            "------\n",
            "\n",
            "Temperature: 1.0, Top_p: 0.5\n",
            "Ludzie i maszyny funkcjonują obok siebie w coraz bardziej złożony sposób, co wpływa na różne aspekty życia codziennego, pracy oraz interakcji społecznych. W wielu branżach, takich jak przemysł, medycyna czy usługi, maszyny i technologie wspierają ludzi, zwiększając efektywność\n",
            "------\n",
            "\n",
            "Temperature: 1.0, Top_p: 0.7\n",
            "Ludzie i maszyny funkcjonują obok siebie w coraz bardziej złożony sposób, co wpływa na wiele aspektów życia codziennego, pracy oraz interakcji społecznych. W różnych dziedzinach, takich jak przemysł, medycyna, edukacja czy usługi, technologia staje się nieodłącznym elementem,\n",
            "------\n",
            "\n",
            "Temperature: 1.0, Top_p: 0.9\n",
            "\"Ludzie i maszyny funkcjonują obok siebie\" to temat, który dotyka wielu aspektów współczesnego życia, w tym technologii, pracy, relacji międzyludzkich oraz wpływu automatyzacji na społeczeństwo. Można go rozwinąć na różne sposoby, np.:\n",
            "\n",
            "1. **\n",
            "------\n",
            "\n",
            "Temperature: 1.0, Top_p: 1.0\n",
            "Ludzie i maszyny funkcjonują obok siebie w coraz bardziej zintegrowanym świecie. W różnorodnych dziedzinach, od przemysłu po medycynę, możemy zaobserwować, jak nowoczesne technologie wspierają ludzką pracę, przynosząc nowe możliwości i wyzwania. Automatyz\n"
          ]
        }
      ],
      "source": [
        "top_ps = [0.5, 0.7, 0.9, 1.0]\n",
        "for top_p in top_ps:\n",
        "    print('------')\n",
        "    print(f\"\\nTemperature: 1.0, Top_p: {top_p}\")\n",
        "    generated_text = generate_essay(prompt, temperature=1.0, topp=top_p)\n",
        "    print(generated_text)"
      ]
    }
  ],
  "metadata": {
    "kaggle": {
      "accelerator": "none",
      "dataSources": [],
      "dockerImageVersionId": 30646,
      "isGpuEnabled": false,
      "isInternetEnabled": true,
      "language": "python",
      "sourceType": "notebook"
    },
    "kernelspec": {
      "display_name": "Python 3",
      "language": "python",
      "name": "python3"
    },
    "language_info": {
      "codemirror_mode": {
        "name": "ipython",
        "version": 3
      },
      "file_extension": ".py",
      "mimetype": "text/x-python",
      "name": "python",
      "nbconvert_exporter": "python",
      "pygments_lexer": "ipython3",
      "version": "3.10.13"
    },
    "papermill": {
      "default_parameters": {},
      "duration": 51.210196,
      "end_time": "2024-10-11T14:19:48.063299",
      "environment_variables": {},
      "exception": null,
      "input_path": "__notebook__.ipynb",
      "output_path": "__notebook__.ipynb",
      "parameters": {},
      "start_time": "2024-10-11T14:18:56.853103",
      "version": "2.5.0"
    },
    "colab": {
      "provenance": []
    }
  },
  "nbformat": 4,
  "nbformat_minor": 5
}